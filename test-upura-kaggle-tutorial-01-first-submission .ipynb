{
 "cells": [
  {
   "cell_type": "code",
   "execution_count": 1,
   "metadata": {
    "_uuid": "6413a13d8a260043bda237e211bd962582eb7ff2",
    "execution": {
     "iopub.execute_input": "2021-12-28T06:59:41.772166Z",
     "iopub.status.busy": "2021-12-28T06:59:41.771827Z",
     "iopub.status.idle": "2021-12-28T06:59:41.777149Z",
     "shell.execute_reply": "2021-12-28T06:59:41.775957Z",
     "shell.execute_reply.started": "2021-12-28T06:59:41.772126Z"
    }
   },
   "outputs": [],
   "source": [
    "import numpy as np\n",
    "import pandas as pd"
   ]
  },
  {
   "cell_type": "code",
   "execution_count": 2,
   "metadata": {
    "_cell_guid": "9c963eb3-04ac-422c-bc0c-4373bda6880e",
    "_uuid": "95f406c4d2f1dab6744ea248b80e3a535c652450",
    "execution": {
     "iopub.execute_input": "2021-12-28T07:04:00.027813Z",
     "iopub.status.busy": "2021-12-28T07:04:00.027383Z",
     "iopub.status.idle": "2021-12-28T07:04:00.083818Z",
     "shell.execute_reply": "2021-12-28T07:04:00.082630Z",
     "shell.execute_reply.started": "2021-12-28T07:04:00.027752Z"
    }
   },
   "outputs": [],
   "source": [
    "train = pd.read_csv(\"../input/titanic/train.csv\")\n",
    "test = pd.read_csv(\"../input/titanic/test.csv\")\n",
    "gender_submission = pd.read_csv(\"../input/titanic/gender_submission.csv\")\n",
    "\n",
    "data = pd.concat([train, test], sort=False)\n",
    "\n",
    "data['Sex'].replace(['male','female'], [0, 1], inplace=True)\n",
    "data['Embarked'].fillna(('S'), inplace=True)\n",
    "data['Embarked'] = data['Embarked'].map( {'S': 0, 'C': 1, 'Q': 2} ).astype(int)\n",
    "data['Fare'].fillna(np.mean(data['Fare']), inplace=True)\n",
    "data['Age'].fillna(data['Age'].median(),inplace=True)\n",
    "data['FamilySize'] = data['Parch'] + data['SibSp'] + 1\n",
    "data['IsAlone'] = 0\n",
    "data.loc[data['FamilySize'] == 1, 'IsAlone'] = 1"
   ]
  },
  {
   "cell_type": "code",
   "execution_count": 3,
   "metadata": {
    "execution": {
     "iopub.execute_input": "2021-12-28T06:59:51.448895Z",
     "iopub.status.busy": "2021-12-28T06:59:51.448374Z",
     "iopub.status.idle": "2021-12-28T06:59:51.468499Z",
     "shell.execute_reply": "2021-12-28T06:59:51.467875Z",
     "shell.execute_reply.started": "2021-12-28T06:59:51.448829Z"
    }
   },
   "outputs": [
    {
     "data": {
      "text/html": [
       "<div>\n",
       "<style scoped>\n",
       "    .dataframe tbody tr th:only-of-type {\n",
       "        vertical-align: middle;\n",
       "    }\n",
       "\n",
       "    .dataframe tbody tr th {\n",
       "        vertical-align: top;\n",
       "    }\n",
       "\n",
       "    .dataframe thead th {\n",
       "        text-align: right;\n",
       "    }\n",
       "</style>\n",
       "<table border=\"1\" class=\"dataframe\">\n",
       "  <thead>\n",
       "    <tr style=\"text-align: right;\">\n",
       "      <th></th>\n",
       "      <th>PassengerId</th>\n",
       "      <th>Survived</th>\n",
       "      <th>Pclass</th>\n",
       "      <th>Name</th>\n",
       "      <th>Sex</th>\n",
       "      <th>Age</th>\n",
       "      <th>SibSp</th>\n",
       "      <th>Parch</th>\n",
       "      <th>Ticket</th>\n",
       "      <th>Fare</th>\n",
       "      <th>Cabin</th>\n",
       "      <th>Embarked</th>\n",
       "      <th>FamilySize</th>\n",
       "      <th>IsAlone</th>\n",
       "    </tr>\n",
       "  </thead>\n",
       "  <tbody>\n",
       "    <tr>\n",
       "      <td>0</td>\n",
       "      <td>1</td>\n",
       "      <td>0.0</td>\n",
       "      <td>3</td>\n",
       "      <td>Braund, Mr. Owen Harris</td>\n",
       "      <td>0</td>\n",
       "      <td>22.0</td>\n",
       "      <td>1</td>\n",
       "      <td>0</td>\n",
       "      <td>A/5 21171</td>\n",
       "      <td>7.2500</td>\n",
       "      <td>NaN</td>\n",
       "      <td>0</td>\n",
       "      <td>2</td>\n",
       "      <td>0</td>\n",
       "    </tr>\n",
       "    <tr>\n",
       "      <td>1</td>\n",
       "      <td>2</td>\n",
       "      <td>1.0</td>\n",
       "      <td>1</td>\n",
       "      <td>Cumings, Mrs. John Bradley (Florence Briggs Th...</td>\n",
       "      <td>1</td>\n",
       "      <td>38.0</td>\n",
       "      <td>1</td>\n",
       "      <td>0</td>\n",
       "      <td>PC 17599</td>\n",
       "      <td>71.2833</td>\n",
       "      <td>C85</td>\n",
       "      <td>1</td>\n",
       "      <td>2</td>\n",
       "      <td>0</td>\n",
       "    </tr>\n",
       "    <tr>\n",
       "      <td>2</td>\n",
       "      <td>3</td>\n",
       "      <td>1.0</td>\n",
       "      <td>3</td>\n",
       "      <td>Heikkinen, Miss. Laina</td>\n",
       "      <td>1</td>\n",
       "      <td>26.0</td>\n",
       "      <td>0</td>\n",
       "      <td>0</td>\n",
       "      <td>STON/O2. 3101282</td>\n",
       "      <td>7.9250</td>\n",
       "      <td>NaN</td>\n",
       "      <td>0</td>\n",
       "      <td>1</td>\n",
       "      <td>1</td>\n",
       "    </tr>\n",
       "    <tr>\n",
       "      <td>3</td>\n",
       "      <td>4</td>\n",
       "      <td>1.0</td>\n",
       "      <td>1</td>\n",
       "      <td>Futrelle, Mrs. Jacques Heath (Lily May Peel)</td>\n",
       "      <td>1</td>\n",
       "      <td>35.0</td>\n",
       "      <td>1</td>\n",
       "      <td>0</td>\n",
       "      <td>113803</td>\n",
       "      <td>53.1000</td>\n",
       "      <td>C123</td>\n",
       "      <td>0</td>\n",
       "      <td>2</td>\n",
       "      <td>0</td>\n",
       "    </tr>\n",
       "    <tr>\n",
       "      <td>4</td>\n",
       "      <td>5</td>\n",
       "      <td>0.0</td>\n",
       "      <td>3</td>\n",
       "      <td>Allen, Mr. William Henry</td>\n",
       "      <td>0</td>\n",
       "      <td>35.0</td>\n",
       "      <td>0</td>\n",
       "      <td>0</td>\n",
       "      <td>373450</td>\n",
       "      <td>8.0500</td>\n",
       "      <td>NaN</td>\n",
       "      <td>0</td>\n",
       "      <td>1</td>\n",
       "      <td>1</td>\n",
       "    </tr>\n",
       "  </tbody>\n",
       "</table>\n",
       "</div>"
      ],
      "text/plain": [
       "   PassengerId  Survived  Pclass  \\\n",
       "0            1       0.0       3   \n",
       "1            2       1.0       1   \n",
       "2            3       1.0       3   \n",
       "3            4       1.0       1   \n",
       "4            5       0.0       3   \n",
       "\n",
       "                                                Name  Sex   Age  SibSp  Parch  \\\n",
       "0                            Braund, Mr. Owen Harris    0  22.0      1      0   \n",
       "1  Cumings, Mrs. John Bradley (Florence Briggs Th...    1  38.0      1      0   \n",
       "2                             Heikkinen, Miss. Laina    1  26.0      0      0   \n",
       "3       Futrelle, Mrs. Jacques Heath (Lily May Peel)    1  35.0      1      0   \n",
       "4                           Allen, Mr. William Henry    0  35.0      0      0   \n",
       "\n",
       "             Ticket     Fare Cabin  Embarked  FamilySize  IsAlone  \n",
       "0         A/5 21171   7.2500   NaN         0           2        0  \n",
       "1          PC 17599  71.2833   C85         1           2        0  \n",
       "2  STON/O2. 3101282   7.9250   NaN         0           1        1  \n",
       "3            113803  53.1000  C123         0           2        0  \n",
       "4            373450   8.0500   NaN         0           1        1  "
      ]
     },
     "execution_count": 3,
     "metadata": {},
     "output_type": "execute_result"
    }
   ],
   "source": [
    "data.head()"
   ]
  },
  {
   "cell_type": "code",
   "execution_count": 4,
   "metadata": {
    "_cell_guid": "d3f3527c-8758-41c2-bbe3-14b604b2d317",
    "_uuid": "f7341a6f089464180e94d5e09d1071e0350cff3d",
    "execution": {
     "iopub.execute_input": "2021-12-28T07:04:12.010146Z",
     "iopub.status.busy": "2021-12-28T07:04:12.009769Z",
     "iopub.status.idle": "2021-12-28T07:04:12.022678Z",
     "shell.execute_reply": "2021-12-28T07:04:12.021797Z",
     "shell.execute_reply.started": "2021-12-28T07:04:12.010092Z"
    }
   },
   "outputs": [],
   "source": [
    "delete_columns = ['Name', 'PassengerId', 'Ticket', 'Cabin']\n",
    "data.drop(delete_columns, axis=1, inplace=True)\n",
    "\n",
    "train = data[:len(train)]\n",
    "test = data[len(train):]\n",
    "\n",
    "y_train = train['Survived']\n",
    "X_train = train.drop('Survived', axis = 1)\n",
    "X_test = test.drop('Survived', axis = 1)"
   ]
  },
  {
   "cell_type": "code",
   "execution_count": 5,
   "metadata": {
    "execution": {
     "iopub.execute_input": "2021-12-28T07:04:13.027657Z",
     "iopub.status.busy": "2021-12-28T07:04:13.027151Z",
     "iopub.status.idle": "2021-12-28T07:04:13.043475Z",
     "shell.execute_reply": "2021-12-28T07:04:13.042446Z",
     "shell.execute_reply.started": "2021-12-28T07:04:13.027595Z"
    }
   },
   "outputs": [
    {
     "data": {
      "text/html": [
       "<div>\n",
       "<style scoped>\n",
       "    .dataframe tbody tr th:only-of-type {\n",
       "        vertical-align: middle;\n",
       "    }\n",
       "\n",
       "    .dataframe tbody tr th {\n",
       "        vertical-align: top;\n",
       "    }\n",
       "\n",
       "    .dataframe thead th {\n",
       "        text-align: right;\n",
       "    }\n",
       "</style>\n",
       "<table border=\"1\" class=\"dataframe\">\n",
       "  <thead>\n",
       "    <tr style=\"text-align: right;\">\n",
       "      <th></th>\n",
       "      <th>Pclass</th>\n",
       "      <th>Sex</th>\n",
       "      <th>Age</th>\n",
       "      <th>SibSp</th>\n",
       "      <th>Parch</th>\n",
       "      <th>Fare</th>\n",
       "      <th>Embarked</th>\n",
       "      <th>FamilySize</th>\n",
       "      <th>IsAlone</th>\n",
       "    </tr>\n",
       "  </thead>\n",
       "  <tbody>\n",
       "    <tr>\n",
       "      <td>0</td>\n",
       "      <td>3</td>\n",
       "      <td>0</td>\n",
       "      <td>22.0</td>\n",
       "      <td>1</td>\n",
       "      <td>0</td>\n",
       "      <td>7.2500</td>\n",
       "      <td>0</td>\n",
       "      <td>2</td>\n",
       "      <td>0</td>\n",
       "    </tr>\n",
       "    <tr>\n",
       "      <td>1</td>\n",
       "      <td>1</td>\n",
       "      <td>1</td>\n",
       "      <td>38.0</td>\n",
       "      <td>1</td>\n",
       "      <td>0</td>\n",
       "      <td>71.2833</td>\n",
       "      <td>1</td>\n",
       "      <td>2</td>\n",
       "      <td>0</td>\n",
       "    </tr>\n",
       "    <tr>\n",
       "      <td>2</td>\n",
       "      <td>3</td>\n",
       "      <td>1</td>\n",
       "      <td>26.0</td>\n",
       "      <td>0</td>\n",
       "      <td>0</td>\n",
       "      <td>7.9250</td>\n",
       "      <td>0</td>\n",
       "      <td>1</td>\n",
       "      <td>1</td>\n",
       "    </tr>\n",
       "    <tr>\n",
       "      <td>3</td>\n",
       "      <td>1</td>\n",
       "      <td>1</td>\n",
       "      <td>35.0</td>\n",
       "      <td>1</td>\n",
       "      <td>0</td>\n",
       "      <td>53.1000</td>\n",
       "      <td>0</td>\n",
       "      <td>2</td>\n",
       "      <td>0</td>\n",
       "    </tr>\n",
       "    <tr>\n",
       "      <td>4</td>\n",
       "      <td>3</td>\n",
       "      <td>0</td>\n",
       "      <td>35.0</td>\n",
       "      <td>0</td>\n",
       "      <td>0</td>\n",
       "      <td>8.0500</td>\n",
       "      <td>0</td>\n",
       "      <td>1</td>\n",
       "      <td>1</td>\n",
       "    </tr>\n",
       "  </tbody>\n",
       "</table>\n",
       "</div>"
      ],
      "text/plain": [
       "   Pclass  Sex   Age  SibSp  Parch     Fare  Embarked  FamilySize  IsAlone\n",
       "0       3    0  22.0      1      0   7.2500         0           2        0\n",
       "1       1    1  38.0      1      0  71.2833         1           2        0\n",
       "2       3    1  26.0      0      0   7.9250         0           1        1\n",
       "3       1    1  35.0      1      0  53.1000         0           2        0\n",
       "4       3    0  35.0      0      0   8.0500         0           1        1"
      ]
     },
     "execution_count": 5,
     "metadata": {},
     "output_type": "execute_result"
    }
   ],
   "source": [
    "X_train.head()"
   ]
  },
  {
   "cell_type": "markdown",
   "metadata": {},
   "source": [
    "## 機械学習アルゴリズム"
   ]
  },
  {
   "cell_type": "code",
   "execution_count": 6,
   "metadata": {
    "execution": {
     "iopub.execute_input": "2021-12-28T05:26:48.635816Z",
     "iopub.status.busy": "2021-12-28T05:26:48.635259Z",
     "iopub.status.idle": "2021-12-28T05:26:48.640789Z",
     "shell.execute_reply": "2021-12-28T05:26:48.639577Z",
     "shell.execute_reply.started": "2021-12-28T05:26:48.635767Z"
    }
   },
   "outputs": [],
   "source": [
    "from sklearn.linear_model import LogisticRegression\n",
    "clf = LogisticRegression(penalty='l2', solver=\"sag\", random_state=0)"
   ]
  },
  {
   "cell_type": "code",
   "execution_count": 7,
   "metadata": {
    "execution": {
     "iopub.execute_input": "2021-12-28T05:26:52.601398Z",
     "iopub.status.busy": "2021-12-28T05:26:52.601088Z",
     "iopub.status.idle": "2021-12-28T05:26:52.605769Z",
     "shell.execute_reply": "2021-12-28T05:26:52.604921Z",
     "shell.execute_reply.started": "2021-12-28T05:26:52.60135Z"
    }
   },
   "outputs": [],
   "source": [
    "from sklearn.ensemble import RandomForestClassifier\n",
    "clf = RandomForestClassifier(n_estimators=100,max_depth=2,random_state=0)"
   ]
  },
  {
   "cell_type": "code",
   "execution_count": 8,
   "metadata": {
    "execution": {
     "iopub.execute_input": "2021-12-28T05:27:10.533071Z",
     "iopub.status.busy": "2021-12-28T05:27:10.532481Z",
     "iopub.status.idle": "2021-12-28T05:27:10.63387Z",
     "shell.execute_reply": "2021-12-28T05:27:10.632625Z",
     "shell.execute_reply.started": "2021-12-28T05:27:10.533017Z"
    }
   },
   "outputs": [],
   "source": [
    "clf.fit(X_train, y_train)\n",
    "y_pred = clf.predict(X_test)"
   ]
  },
  {
   "cell_type": "code",
   "execution_count": 9,
   "metadata": {
    "execution": {
     "iopub.execute_input": "2021-12-28T07:02:56.782089Z",
     "iopub.status.busy": "2021-12-28T07:02:56.781529Z",
     "iopub.status.idle": "2021-12-28T07:02:56.789272Z",
     "shell.execute_reply": "2021-12-28T07:02:56.788050Z",
     "shell.execute_reply.started": "2021-12-28T07:02:56.782040Z"
    }
   },
   "outputs": [
    {
     "data": {
      "text/plain": [
       "array([0., 1., 0., 0., 1., 0., 1., 0., 1., 0.])"
      ]
     },
     "execution_count": 9,
     "metadata": {},
     "output_type": "execute_result"
    }
   ],
   "source": [
    "y_pred[:10]"
   ]
  },
  {
   "cell_type": "code",
   "execution_count": 10,
   "metadata": {
    "execution": {
     "iopub.execute_input": "2021-12-28T07:02:48.153548Z",
     "iopub.status.busy": "2021-12-28T07:02:48.152919Z",
     "iopub.status.idle": "2021-12-28T07:02:48.158093Z",
     "shell.execute_reply": "2021-12-28T07:02:48.156856Z",
     "shell.execute_reply.started": "2021-12-28T07:02:48.153499Z"
    }
   },
   "outputs": [],
   "source": [
    "y_pred = (y_pred > 0.5).astype(int)\n"
   ]
  },
  {
   "cell_type": "code",
   "execution_count": 11,
   "metadata": {
    "execution": {
     "iopub.execute_input": "2021-12-28T04:33:20.866086Z",
     "iopub.status.busy": "2021-12-28T04:33:20.865741Z",
     "iopub.status.idle": "2021-12-28T04:33:20.888666Z",
     "shell.execute_reply": "2021-12-28T04:33:20.887587Z",
     "shell.execute_reply.started": "2021-12-28T04:33:20.866035Z"
    }
   },
   "outputs": [
    {
     "data": {
      "text/html": [
       "<div>\n",
       "<style scoped>\n",
       "    .dataframe tbody tr th:only-of-type {\n",
       "        vertical-align: middle;\n",
       "    }\n",
       "\n",
       "    .dataframe tbody tr th {\n",
       "        vertical-align: top;\n",
       "    }\n",
       "\n",
       "    .dataframe thead th {\n",
       "        text-align: right;\n",
       "    }\n",
       "</style>\n",
       "<table border=\"1\" class=\"dataframe\">\n",
       "  <thead>\n",
       "    <tr style=\"text-align: right;\">\n",
       "      <th></th>\n",
       "      <th>Survived</th>\n",
       "      <th>Pclass</th>\n",
       "      <th>Sex</th>\n",
       "      <th>Age</th>\n",
       "      <th>SibSp</th>\n",
       "      <th>Parch</th>\n",
       "      <th>Fare</th>\n",
       "      <th>Embarked</th>\n",
       "      <th>FamilySize</th>\n",
       "      <th>IsAlone</th>\n",
       "    </tr>\n",
       "  </thead>\n",
       "  <tbody>\n",
       "    <tr>\n",
       "      <td>0</td>\n",
       "      <td>0.0</td>\n",
       "      <td>3</td>\n",
       "      <td>0</td>\n",
       "      <td>22.0</td>\n",
       "      <td>1</td>\n",
       "      <td>0</td>\n",
       "      <td>7.2500</td>\n",
       "      <td>0</td>\n",
       "      <td>2</td>\n",
       "      <td>0</td>\n",
       "    </tr>\n",
       "    <tr>\n",
       "      <td>1</td>\n",
       "      <td>1.0</td>\n",
       "      <td>1</td>\n",
       "      <td>1</td>\n",
       "      <td>38.0</td>\n",
       "      <td>1</td>\n",
       "      <td>0</td>\n",
       "      <td>71.2833</td>\n",
       "      <td>1</td>\n",
       "      <td>2</td>\n",
       "      <td>0</td>\n",
       "    </tr>\n",
       "    <tr>\n",
       "      <td>2</td>\n",
       "      <td>1.0</td>\n",
       "      <td>3</td>\n",
       "      <td>1</td>\n",
       "      <td>26.0</td>\n",
       "      <td>0</td>\n",
       "      <td>0</td>\n",
       "      <td>7.9250</td>\n",
       "      <td>0</td>\n",
       "      <td>1</td>\n",
       "      <td>1</td>\n",
       "    </tr>\n",
       "    <tr>\n",
       "      <td>3</td>\n",
       "      <td>1.0</td>\n",
       "      <td>1</td>\n",
       "      <td>1</td>\n",
       "      <td>35.0</td>\n",
       "      <td>1</td>\n",
       "      <td>0</td>\n",
       "      <td>53.1000</td>\n",
       "      <td>0</td>\n",
       "      <td>2</td>\n",
       "      <td>0</td>\n",
       "    </tr>\n",
       "    <tr>\n",
       "      <td>4</td>\n",
       "      <td>0.0</td>\n",
       "      <td>3</td>\n",
       "      <td>0</td>\n",
       "      <td>35.0</td>\n",
       "      <td>0</td>\n",
       "      <td>0</td>\n",
       "      <td>8.0500</td>\n",
       "      <td>0</td>\n",
       "      <td>1</td>\n",
       "      <td>1</td>\n",
       "    </tr>\n",
       "  </tbody>\n",
       "</table>\n",
       "</div>"
      ],
      "text/plain": [
       "   Survived  Pclass  Sex   Age  SibSp  Parch     Fare  Embarked  FamilySize  \\\n",
       "0       0.0       3    0  22.0      1      0   7.2500         0           2   \n",
       "1       1.0       1    1  38.0      1      0  71.2833         1           2   \n",
       "2       1.0       3    1  26.0      0      0   7.9250         0           1   \n",
       "3       1.0       1    1  35.0      1      0  53.1000         0           2   \n",
       "4       0.0       3    0  35.0      0      0   8.0500         0           1   \n",
       "\n",
       "   IsAlone  \n",
       "0        0  \n",
       "1        0  \n",
       "2        1  \n",
       "3        0  \n",
       "4        1  "
      ]
     },
     "execution_count": 11,
     "metadata": {},
     "output_type": "execute_result"
    }
   ],
   "source": [
    "data.head()"
   ]
  },
  {
   "cell_type": "code",
   "execution_count": 12,
   "metadata": {
    "execution": {
     "iopub.execute_input": "2021-12-28T05:19:19.182036Z",
     "iopub.status.busy": "2021-12-28T05:19:19.181713Z",
     "iopub.status.idle": "2021-12-28T05:19:19.424993Z",
     "shell.execute_reply": "2021-12-28T05:19:19.424079Z",
     "shell.execute_reply.started": "2021-12-28T05:19:19.181986Z"
    }
   },
   "outputs": [
    {
     "name": "stderr",
     "output_type": "stream",
     "text": [
      "/opt/conda/lib/python3.6/site-packages/ipykernel_launcher.py:2: SettingWithCopyWarning: \n",
      "A value is trying to be set on a copy of a slice from a DataFrame.\n",
      "Try using .loc[row_indexer,col_indexer] = value instead\n",
      "\n",
      "See the caveats in the documentation: http://pandas.pydata.org/pandas-docs/stable/user_guide/indexing.html#returning-a-view-versus-a-copy\n",
      "  \n",
      "/opt/conda/lib/python3.6/site-packages/ipykernel_launcher.py:3: SettingWithCopyWarning: \n",
      "A value is trying to be set on a copy of a slice from a DataFrame.\n",
      "Try using .loc[row_indexer,col_indexer] = value instead\n",
      "\n",
      "See the caveats in the documentation: http://pandas.pydata.org/pandas-docs/stable/user_guide/indexing.html#returning-a-view-versus-a-copy\n",
      "  This is separate from the ipykernel package so we can avoid doing imports until\n"
     ]
    },
    {
     "data": {
      "text/plain": [
       "<matplotlib.axes._subplots.AxesSubplot at 0x7f22816df240>"
      ]
     },
     "execution_count": 12,
     "metadata": {},
     "output_type": "execute_result"
    },
    {
     "data": {
      "image/png": "[encoded data removed]",
      "text/plain": [
       "<Figure size 432x288 with 1 Axes>"
      ]
     },
     "metadata": {
      "needs_background": "light"
     },
     "output_type": "display_data"
    }
   ],
   "source": [
    "data['FamilySize'] = data['Parch'] + data['SibSp']+ 1\n",
    "train['FamilySize'] = data['FamilySize'][:len(train)]\n",
    "test['FamilySize'] = data['FamilySize'][len(train):]\n",
    "\n",
    "import seaborn as sns\n",
    "sns.countplot(x='FamilySize' , data = train,hue = 'Survived')"
   ]
  },
  {
   "cell_type": "code",
   "execution_count": 13,
   "metadata": {
    "execution": {
     "iopub.execute_input": "2021-12-28T05:19:28.92987Z",
     "iopub.status.busy": "2021-12-28T05:19:28.929566Z",
     "iopub.status.idle": "2021-12-28T05:19:28.942815Z",
     "shell.execute_reply": "2021-12-28T05:19:28.941806Z",
     "shell.execute_reply.started": "2021-12-28T05:19:28.929824Z"
    }
   },
   "outputs": [
    {
     "name": "stderr",
     "output_type": "stream",
     "text": [
      "/opt/conda/lib/python3.6/site-packages/ipykernel_launcher.py:4: SettingWithCopyWarning: \n",
      "A value is trying to be set on a copy of a slice from a DataFrame.\n",
      "Try using .loc[row_indexer,col_indexer] = value instead\n",
      "\n",
      "See the caveats in the documentation: http://pandas.pydata.org/pandas-docs/stable/user_guide/indexing.html#returning-a-view-versus-a-copy\n",
      "  after removing the cwd from sys.path.\n",
      "/opt/conda/lib/python3.6/site-packages/ipykernel_launcher.py:5: SettingWithCopyWarning: \n",
      "A value is trying to be set on a copy of a slice from a DataFrame.\n",
      "Try using .loc[row_indexer,col_indexer] = value instead\n",
      "\n",
      "See the caveats in the documentation: http://pandas.pydata.org/pandas-docs/stable/user_guide/indexing.html#returning-a-view-versus-a-copy\n",
      "  \"\"\"\n"
     ]
    }
   ],
   "source": [
    "data['IsAlone'] = 0\n",
    "data.loc[data['FamilySize'] == 1, 'IsAlone'] = 1\n",
    "\n",
    "train['IsAlone'] = data['IsAlone'][:len(train)]\n",
    "test['IsAlone'] = data['IsAlone'][len(train):]"
   ]
  },
  {
   "cell_type": "code",
   "execution_count": 14,
   "metadata": {
    "execution": {
     "iopub.execute_input": "2021-12-28T07:03:10.778433Z",
     "iopub.status.busy": "2021-12-28T07:03:10.777943Z",
     "iopub.status.idle": "2021-12-28T07:03:10.783069Z",
     "shell.execute_reply": "2021-12-28T07:03:10.781998Z",
     "shell.execute_reply.started": "2021-12-28T07:03:10.778387Z"
    }
   },
   "outputs": [],
   "source": [
    "sub = gender_submission"
   ]
  },
  {
   "cell_type": "code",
   "execution_count": 15,
   "metadata": {
    "execution": {
     "iopub.execute_input": "2021-12-28T05:27:58.386077Z",
     "iopub.status.busy": "2021-12-28T05:27:58.385477Z",
     "iopub.status.idle": "2021-12-28T05:27:58.398247Z",
     "shell.execute_reply": "2021-12-28T05:27:58.397524Z",
     "shell.execute_reply.started": "2021-12-28T05:27:58.386024Z"
    }
   },
   "outputs": [
    {
     "data": {
      "text/html": [
       "<div>\n",
       "<style scoped>\n",
       "    .dataframe tbody tr th:only-of-type {\n",
       "        vertical-align: middle;\n",
       "    }\n",
       "\n",
       "    .dataframe tbody tr th {\n",
       "        vertical-align: top;\n",
       "    }\n",
       "\n",
       "    .dataframe thead th {\n",
       "        text-align: right;\n",
       "    }\n",
       "</style>\n",
       "<table border=\"1\" class=\"dataframe\">\n",
       "  <thead>\n",
       "    <tr style=\"text-align: right;\">\n",
       "      <th></th>\n",
       "      <th>PassengerId</th>\n",
       "      <th>Survived</th>\n",
       "    </tr>\n",
       "  </thead>\n",
       "  <tbody>\n",
       "    <tr>\n",
       "      <td>0</td>\n",
       "      <td>892</td>\n",
       "      <td>0</td>\n",
       "    </tr>\n",
       "    <tr>\n",
       "      <td>1</td>\n",
       "      <td>893</td>\n",
       "      <td>1</td>\n",
       "    </tr>\n",
       "    <tr>\n",
       "      <td>2</td>\n",
       "      <td>894</td>\n",
       "      <td>0</td>\n",
       "    </tr>\n",
       "    <tr>\n",
       "      <td>3</td>\n",
       "      <td>895</td>\n",
       "      <td>0</td>\n",
       "    </tr>\n",
       "    <tr>\n",
       "      <td>4</td>\n",
       "      <td>896</td>\n",
       "      <td>1</td>\n",
       "    </tr>\n",
       "  </tbody>\n",
       "</table>\n",
       "</div>"
      ],
      "text/plain": [
       "   PassengerId  Survived\n",
       "0          892         0\n",
       "1          893         1\n",
       "2          894         0\n",
       "3          895         0\n",
       "4          896         1"
      ]
     },
     "execution_count": 15,
     "metadata": {},
     "output_type": "execute_result"
    }
   ],
   "source": [
    "sub['Survived'] = list(map(int,y_pred))\n",
    "sub.to_csv(\"submission_randomforest.csv\", index=False)\n",
    "sub.head()"
   ]
  },
  {
   "cell_type": "code",
   "execution_count": 16,
   "metadata": {
    "execution": {
     "iopub.execute_input": "2021-12-28T07:00:57.351890Z",
     "iopub.status.busy": "2021-12-28T07:00:57.351466Z",
     "iopub.status.idle": "2021-12-28T07:00:57.363875Z",
     "shell.execute_reply": "2021-12-28T07:00:57.362695Z",
     "shell.execute_reply.started": "2021-12-28T07:00:57.351823Z"
    }
   },
   "outputs": [],
   "source": [
    "from sklearn.model_selection import train_test_split\n",
    "X_train, X_valid, y_train, y_valid = train_test_split(X_train,y_train,test_size=0.3,random_state=0,stratify=y_train)"
   ]
  },
  {
   "cell_type": "code",
   "execution_count": 17,
   "metadata": {
    "execution": {
     "iopub.execute_input": "2021-12-28T07:00:57.880246Z",
     "iopub.status.busy": "2021-12-28T07:00:57.879785Z",
     "iopub.status.idle": "2021-12-28T07:00:57.884479Z",
     "shell.execute_reply": "2021-12-28T07:00:57.883829Z",
     "shell.execute_reply.started": "2021-12-28T07:00:57.880203Z"
    }
   },
   "outputs": [],
   "source": [
    "categorical_features = ['Embarked','Pclass','Sex']"
   ]
  },
  {
   "cell_type": "code",
   "execution_count": 18,
   "metadata": {
    "execution": {
     "iopub.execute_input": "2021-12-28T07:01:49.227808Z",
     "iopub.status.busy": "2021-12-28T07:01:49.227346Z",
     "iopub.status.idle": "2021-12-28T07:01:49.232341Z",
     "shell.execute_reply": "2021-12-28T07:01:49.231473Z",
     "shell.execute_reply.started": "2021-12-28T07:01:49.227764Z"
    }
   },
   "outputs": [],
   "source": [
    "params = {\n",
    "    'objective':'binary',\n",
    "    'max_bin': 300,\n",
    "    'learning_rate': 0.05,\n",
    "    'num_leaves': 40\n",
    "}"
   ]
  },
  {
   "cell_type": "code",
   "execution_count": 19,
   "metadata": {
    "execution": {
     "iopub.execute_input": "2021-12-28T07:01:53.029632Z",
     "iopub.status.busy": "2021-12-28T07:01:53.029064Z",
     "iopub.status.idle": "2021-12-28T07:01:53.204055Z",
     "shell.execute_reply": "2021-12-28T07:01:53.203187Z",
     "shell.execute_reply.started": "2021-12-28T07:01:53.029529Z"
    }
   },
   "outputs": [
    {
     "name": "stdout",
     "output_type": "stream",
     "text": [
      "Training until validation scores don't improve for 10 rounds.\n",
      "[10]\ttraining's binary_logloss: 0.505699\tvalid_1's binary_logloss: 0.532106\n",
      "[20]\ttraining's binary_logloss: 0.427825\tvalid_1's binary_logloss: 0.482279\n",
      "[30]\ttraining's binary_logloss: 0.377242\tvalid_1's binary_logloss: 0.456641\n",
      "[40]\ttraining's binary_logloss: 0.345424\tvalid_1's binary_logloss: 0.447083\n",
      "[50]\ttraining's binary_logloss: 0.323113\tvalid_1's binary_logloss: 0.440407\n",
      "[60]\ttraining's binary_logloss: 0.302727\tvalid_1's binary_logloss: 0.434527\n",
      "[70]\ttraining's binary_logloss: 0.285597\tvalid_1's binary_logloss: 0.434932\n",
      "Early stopping, best iteration is:\n",
      "[66]\ttraining's binary_logloss: 0.293072\tvalid_1's binary_logloss: 0.433251\n"
     ]
    },
    {
     "name": "stderr",
     "output_type": "stream",
     "text": [
      "/opt/conda/lib/python3.6/site-packages/lightgbm/basic.py:1205: UserWarning: Using categorical_feature in Dataset.\n",
      "  warnings.warn('Using categorical_feature in Dataset.')\n",
      "/opt/conda/lib/python3.6/site-packages/lightgbm/basic.py:762: UserWarning: categorical_feature in param dict is overridden.\n",
      "  warnings.warn('categorical_feature in param dict is overridden.')\n"
     ]
    }
   ],
   "source": [
    "import lightgbm as lgb\n",
    "\n",
    "\n",
    "lgb_train = lgb.Dataset(X_train,y_train,categorical_feature=categorical_features)\n",
    "lgb_eval = lgb.Dataset(X_valid, y_valid,reference=lgb_train,categorical_feature=categorical_features)\n",
    "\n",
    "\n",
    "model = lgb.train(\n",
    "    params,lgb_train,\n",
    "    valid_sets=[lgb_train, lgb_eval],\n",
    "    verbose_eval=10,\n",
    "    num_boost_round=1000,\n",
    "    early_stopping_rounds=10\n",
    ")\n",
    "\n",
    "y_pred = model.predict(X_test, num_iteration=model.best_iteration)"
   ]
  },
  {
   "cell_type": "code",
   "execution_count": 20,
   "metadata": {
    "execution": {
     "iopub.execute_input": "2021-12-28T07:03:35.608401Z",
     "iopub.status.busy": "2021-12-28T07:03:35.607754Z",
     "iopub.status.idle": "2021-12-28T07:03:35.624008Z",
     "shell.execute_reply": "2021-12-28T07:03:35.622745Z",
     "shell.execute_reply.started": "2021-12-28T07:03:35.608350Z"
    }
   },
   "outputs": [
    {
     "data": {
      "text/html": [
       "<div>\n",
       "<style scoped>\n",
       "    .dataframe tbody tr th:only-of-type {\n",
       "        vertical-align: middle;\n",
       "    }\n",
       "\n",
       "    .dataframe tbody tr th {\n",
       "        vertical-align: top;\n",
       "    }\n",
       "\n",
       "    .dataframe thead th {\n",
       "        text-align: right;\n",
       "    }\n",
       "</style>\n",
       "<table border=\"1\" class=\"dataframe\">\n",
       "  <thead>\n",
       "    <tr style=\"text-align: right;\">\n",
       "      <th></th>\n",
       "      <th>PassengerId</th>\n",
       "      <th>Survived</th>\n",
       "    </tr>\n",
       "  </thead>\n",
       "  <tbody>\n",
       "    <tr>\n",
       "      <td>0</td>\n",
       "      <td>892</td>\n",
       "      <td>0.036056</td>\n",
       "    </tr>\n",
       "    <tr>\n",
       "      <td>1</td>\n",
       "      <td>893</td>\n",
       "      <td>0.403069</td>\n",
       "    </tr>\n",
       "    <tr>\n",
       "      <td>2</td>\n",
       "      <td>894</td>\n",
       "      <td>0.107322</td>\n",
       "    </tr>\n",
       "    <tr>\n",
       "      <td>3</td>\n",
       "      <td>895</td>\n",
       "      <td>0.080240</td>\n",
       "    </tr>\n",
       "    <tr>\n",
       "      <td>4</td>\n",
       "      <td>896</td>\n",
       "      <td>0.460113</td>\n",
       "    </tr>\n",
       "  </tbody>\n",
       "</table>\n",
       "</div>"
      ],
      "text/plain": [
       "   PassengerId  Survived\n",
       "0          892  0.036056\n",
       "1          893  0.403069\n",
       "2          894  0.107322\n",
       "3          895  0.080240\n",
       "4          896  0.460113"
      ]
     },
     "execution_count": 20,
     "metadata": {},
     "output_type": "execute_result"
    }
   ],
   "source": [
    "sub['Survived'] = y_pred\n",
    "sub.to_csv(\"submission_lightgbm.csv\", index=False)\n",
    "\n",
    "sub.head()"
   ]
  },
  {
   "cell_type": "code",
   "execution_count": 21,
   "metadata": {
    "execution": {
     "iopub.execute_input": "2021-12-28T05:20:15.305289Z",
     "iopub.status.busy": "2021-12-28T05:20:15.304991Z",
     "iopub.status.idle": "2021-12-28T05:20:15.332591Z",
     "shell.execute_reply": "2021-12-28T05:20:15.332001Z",
     "shell.execute_reply.started": "2021-12-28T05:20:15.305238Z"
    }
   },
   "outputs": [
    {
     "data": {
      "text/html": [
       "<div>\n",
       "<style scoped>\n",
       "    .dataframe tbody tr th:only-of-type {\n",
       "        vertical-align: middle;\n",
       "    }\n",
       "\n",
       "    .dataframe tbody tr th {\n",
       "        vertical-align: top;\n",
       "    }\n",
       "\n",
       "    .dataframe thead th {\n",
       "        text-align: right;\n",
       "    }\n",
       "</style>\n",
       "<table border=\"1\" class=\"dataframe\">\n",
       "  <thead>\n",
       "    <tr style=\"text-align: right;\">\n",
       "      <th></th>\n",
       "      <th>PassengerId</th>\n",
       "      <th>Survived</th>\n",
       "    </tr>\n",
       "  </thead>\n",
       "  <tbody>\n",
       "    <tr>\n",
       "      <td>0</td>\n",
       "      <td>892</td>\n",
       "      <td>0</td>\n",
       "    </tr>\n",
       "    <tr>\n",
       "      <td>1</td>\n",
       "      <td>893</td>\n",
       "      <td>0</td>\n",
       "    </tr>\n",
       "    <tr>\n",
       "      <td>2</td>\n",
       "      <td>894</td>\n",
       "      <td>0</td>\n",
       "    </tr>\n",
       "    <tr>\n",
       "      <td>3</td>\n",
       "      <td>895</td>\n",
       "      <td>0</td>\n",
       "    </tr>\n",
       "    <tr>\n",
       "      <td>4</td>\n",
       "      <td>896</td>\n",
       "      <td>1</td>\n",
       "    </tr>\n",
       "  </tbody>\n",
       "</table>\n",
       "</div>"
      ],
      "text/plain": [
       "   PassengerId  Survived\n",
       "0          892         0\n",
       "1          893         0\n",
       "2          894         0\n",
       "3          895         0\n",
       "4          896         1"
      ]
     },
     "execution_count": 21,
     "metadata": {},
     "output_type": "execute_result"
    }
   ],
   "source": [
    "clf.fit(X_train, y_train)\n",
    "y_pred_familysize_isalone = clf.predict(X_test)\n",
    "\n",
    "sub['Survived'] = list(map(int,y_pred_familysize_isalone))\n",
    "sub.to_csv(\"submission_familysize_isalone.csv\", index = False)\n",
    "\n",
    "sub.head()"
   ]
  },
  {
   "cell_type": "code",
   "execution_count": 22,
   "metadata": {
    "execution": {
     "iopub.execute_input": "2021-12-28T05:20:29.186983Z",
     "iopub.status.busy": "2021-12-28T05:20:29.18642Z",
     "iopub.status.idle": "2021-12-28T05:20:29.216613Z",
     "shell.execute_reply": "2021-12-28T05:20:29.215961Z",
     "shell.execute_reply.started": "2021-12-28T05:20:29.186935Z"
    }
   },
   "outputs": [
    {
     "data": {
      "text/html": [
       "<div>\n",
       "<style scoped>\n",
       "    .dataframe tbody tr th:only-of-type {\n",
       "        vertical-align: middle;\n",
       "    }\n",
       "\n",
       "    .dataframe tbody tr th {\n",
       "        vertical-align: top;\n",
       "    }\n",
       "\n",
       "    .dataframe thead th {\n",
       "        text-align: right;\n",
       "    }\n",
       "</style>\n",
       "<table border=\"1\" class=\"dataframe\">\n",
       "  <thead>\n",
       "    <tr style=\"text-align: right;\">\n",
       "      <th></th>\n",
       "      <th>PassengerId</th>\n",
       "      <th>Survived</th>\n",
       "    </tr>\n",
       "  </thead>\n",
       "  <tbody>\n",
       "    <tr>\n",
       "      <td>0</td>\n",
       "      <td>892</td>\n",
       "      <td>0</td>\n",
       "    </tr>\n",
       "    <tr>\n",
       "      <td>1</td>\n",
       "      <td>893</td>\n",
       "      <td>0</td>\n",
       "    </tr>\n",
       "    <tr>\n",
       "      <td>2</td>\n",
       "      <td>894</td>\n",
       "      <td>0</td>\n",
       "    </tr>\n",
       "    <tr>\n",
       "      <td>3</td>\n",
       "      <td>895</td>\n",
       "      <td>0</td>\n",
       "    </tr>\n",
       "    <tr>\n",
       "      <td>4</td>\n",
       "      <td>896</td>\n",
       "      <td>0</td>\n",
       "    </tr>\n",
       "  </tbody>\n",
       "</table>\n",
       "</div>"
      ],
      "text/plain": [
       "   PassengerId  Survived\n",
       "0          892         0\n",
       "1          893         0\n",
       "2          894         0\n",
       "3          895         0\n",
       "4          896         0"
      ]
     },
     "execution_count": 22,
     "metadata": {},
     "output_type": "execute_result"
    }
   ],
   "source": [
    "clf.fit(X_train.drop('FamilySize', axis = 1), y_train)\n",
    "y_pred_isalone = clf.predict(X_test.drop('FamilySize', axis = 1))\n",
    "\n",
    "sub['Survived'] = list(map(int, y_pred_isalone))\n",
    "sub.to_csv(\"submission_isalone.csv\" , index = False)\n",
    "\n",
    "sub.head()"
   ]
  },
  {
   "cell_type": "code",
   "execution_count": 23,
   "metadata": {
    "execution": {
     "iopub.execute_input": "2021-12-28T05:23:21.909549Z",
     "iopub.status.busy": "2021-12-28T05:23:21.909236Z",
     "iopub.status.idle": "2021-12-28T05:23:21.941703Z",
     "shell.execute_reply": "2021-12-28T05:23:21.940476Z",
     "shell.execute_reply.started": "2021-12-28T05:23:21.909502Z"
    }
   },
   "outputs": [
    {
     "data": {
      "text/html": [
       "<div>\n",
       "<style scoped>\n",
       "    .dataframe tbody tr th:only-of-type {\n",
       "        vertical-align: middle;\n",
       "    }\n",
       "\n",
       "    .dataframe tbody tr th {\n",
       "        vertical-align: top;\n",
       "    }\n",
       "\n",
       "    .dataframe thead th {\n",
       "        text-align: right;\n",
       "    }\n",
       "</style>\n",
       "<table border=\"1\" class=\"dataframe\">\n",
       "  <thead>\n",
       "    <tr style=\"text-align: right;\">\n",
       "      <th></th>\n",
       "      <th>PassengerId</th>\n",
       "      <th>Survived</th>\n",
       "    </tr>\n",
       "  </thead>\n",
       "  <tbody>\n",
       "    <tr>\n",
       "      <td>0</td>\n",
       "      <td>892</td>\n",
       "      <td>0</td>\n",
       "    </tr>\n",
       "    <tr>\n",
       "      <td>1</td>\n",
       "      <td>893</td>\n",
       "      <td>0</td>\n",
       "    </tr>\n",
       "    <tr>\n",
       "      <td>2</td>\n",
       "      <td>894</td>\n",
       "      <td>0</td>\n",
       "    </tr>\n",
       "    <tr>\n",
       "      <td>3</td>\n",
       "      <td>895</td>\n",
       "      <td>0</td>\n",
       "    </tr>\n",
       "    <tr>\n",
       "      <td>4</td>\n",
       "      <td>896</td>\n",
       "      <td>0</td>\n",
       "    </tr>\n",
       "  </tbody>\n",
       "</table>\n",
       "</div>"
      ],
      "text/plain": [
       "   PassengerId  Survived\n",
       "0          892         0\n",
       "1          893         0\n",
       "2          894         0\n",
       "3          895         0\n",
       "4          896         0"
      ]
     },
     "execution_count": 23,
     "metadata": {},
     "output_type": "execute_result"
    }
   ],
   "source": [
    "clf.fit(X_train.drop('IsAlone', axis = 1), y_train)\n",
    "y_pred_familysize = clf.predict(X_test.drop('IsAlone', axis = 1))\n",
    "\n",
    "sub['Survived'] = list(map(int, y_pred_familysize))\n",
    "sub.to_csv(\"submission_familysize.csv\" , index = False)\n",
    "\n",
    "sub.head()"
   ]
  },
  {
   "cell_type": "code",
   "execution_count": 24,
   "metadata": {
    "execution": {
     "iopub.execute_input": "2021-12-28T05:25:21.800382Z",
     "iopub.status.busy": "2021-12-28T05:25:21.800064Z",
     "iopub.status.idle": "2021-12-28T05:25:21.831612Z",
     "shell.execute_reply": "2021-12-28T05:25:21.830679Z",
     "shell.execute_reply.started": "2021-12-28T05:25:21.800335Z"
    }
   },
   "outputs": [
    {
     "data": {
      "text/html": [
       "<div>\n",
       "<style scoped>\n",
       "    .dataframe tbody tr th:only-of-type {\n",
       "        vertical-align: middle;\n",
       "    }\n",
       "\n",
       "    .dataframe tbody tr th {\n",
       "        vertical-align: top;\n",
       "    }\n",
       "\n",
       "    .dataframe thead th {\n",
       "        text-align: right;\n",
       "    }\n",
       "</style>\n",
       "<table border=\"1\" class=\"dataframe\">\n",
       "  <thead>\n",
       "    <tr style=\"text-align: right;\">\n",
       "      <th></th>\n",
       "      <th>PassengerId</th>\n",
       "      <th>Survived</th>\n",
       "    </tr>\n",
       "  </thead>\n",
       "  <tbody>\n",
       "    <tr>\n",
       "      <td>0</td>\n",
       "      <td>892</td>\n",
       "      <td>0</td>\n",
       "    </tr>\n",
       "    <tr>\n",
       "      <td>1</td>\n",
       "      <td>893</td>\n",
       "      <td>0</td>\n",
       "    </tr>\n",
       "    <tr>\n",
       "      <td>2</td>\n",
       "      <td>894</td>\n",
       "      <td>0</td>\n",
       "    </tr>\n",
       "    <tr>\n",
       "      <td>3</td>\n",
       "      <td>895</td>\n",
       "      <td>0</td>\n",
       "    </tr>\n",
       "    <tr>\n",
       "      <td>4</td>\n",
       "      <td>896</td>\n",
       "      <td>0</td>\n",
       "    </tr>\n",
       "  </tbody>\n",
       "</table>\n",
       "</div>"
      ],
      "text/plain": [
       "   PassengerId  Survived\n",
       "0          892         0\n",
       "1          893         0\n",
       "2          894         0\n",
       "3          895         0\n",
       "4          896         0"
      ]
     },
     "execution_count": 24,
     "metadata": {},
     "output_type": "execute_result"
    }
   ],
   "source": [
    "clf.fit(X_train.drop(['FamilySize','IsAlone'], axis = 1), y_train)\n",
    "y_pred= clf.predict(X_test.drop(['FamilySize','IsAlone'], axis = 1))\n",
    "\n",
    "sub['Survived'] = list(map(int, y_pred))\n",
    "sub.to_csv(\"submission.csv\" , index = False)\n",
    "\n",
    "sub.head()"
   ]
  },
  {
   "cell_type": "code",
   "execution_count": 25,
   "metadata": {
    "execution": {
     "iopub.execute_input": "2021-12-28T06:47:39.275693Z",
     "iopub.status.busy": "2021-12-28T06:47:39.275269Z",
     "iopub.status.idle": "2021-12-28T06:47:39.285681Z",
     "shell.execute_reply": "2021-12-28T06:47:39.284604Z",
     "shell.execute_reply.started": "2021-12-28T06:47:39.275585Z"
    }
   },
   "outputs": [],
   "source": [
    "import optuna\n",
    "from sklearn.metrics import log_loss\n",
    "\n",
    "\n",
    "def objective(trial):\n",
    "    params = {\n",
    "        'objective':'binary',\n",
    "        'max_bin': trial.suggest_int('max_bin',255,500),\n",
    "        'learning_rate': 0.05,\n",
    "        'num_leaves': trial.suggest_int('num_leaves',32,128),\n",
    "    }\n",
    "    \n",
    "    lgb_train = lgb.Dataset(X_train,y_train,categorical_feature=categorical_features)\n",
    "    lgb_eval = lgb.Dataset(X_valid,y_valid,reference=lgb_train,categorical_feature=categorical_features)\n",
    "    \n",
    "    model = lgb.train(\n",
    "    params, lgb_train,\n",
    "    valid_sets=[lgb_train,lgb_eval],\n",
    "    verbose_eval=10,\n",
    "    num_boost_round=1000,\n",
    "    early_stopping_rounds=10\n",
    "    )\n",
    "    \n",
    "    \n",
    "    y_pred_valid = model.predict(X_valid,num_iteration=model.best_iteration)\n",
    "    score = log_loss(y_valid,y_pred_valid)\n",
    "    return score"
   ]
  },
  {
   "cell_type": "code",
   "execution_count": 26,
   "metadata": {
    "execution": {
     "iopub.execute_input": "2021-12-28T06:47:43.917932Z",
     "iopub.status.busy": "2021-12-28T06:47:43.917534Z",
     "iopub.status.idle": "2021-12-28T06:47:58.159713Z",
     "shell.execute_reply": "2021-12-28T06:47:58.158907Z",
     "shell.execute_reply.started": "2021-12-28T06:47:43.917864Z"
    }
   },
   "outputs": [
    {
     "name": "stderr",
     "output_type": "stream",
     "text": [
      "/opt/conda/lib/python3.6/site-packages/lightgbm/basic.py:1205: UserWarning:\n",
      "\n",
      "Using categorical_feature in Dataset.\n",
      "\n",
      "/opt/conda/lib/python3.6/site-packages/lightgbm/basic.py:762: UserWarning:\n",
      "\n",
      "categorical_feature in param dict is overridden.\n",
      "\n"
     ]
    },
    {
     "name": "stdout",
     "output_type": "stream",
     "text": [
      "Training until validation scores don't improve for 10 rounds.\n",
      "[10]\ttraining's binary_logloss: 0.505699\tvalid_1's binary_logloss: 0.532106\n",
      "[20]\ttraining's binary_logloss: 0.427825\tvalid_1's binary_logloss: 0.482279\n",
      "[30]\ttraining's binary_logloss: 0.377242\tvalid_1's binary_logloss: 0.456641\n",
      "[40]\ttraining's binary_logloss: 0.345424\tvalid_1's binary_logloss: 0.447083\n",
      "[50]\ttraining's binary_logloss: 0.323113\tvalid_1's binary_logloss: 0.440407\n",
      "[60]\ttraining's binary_logloss: 0.302727\tvalid_1's binary_logloss: 0.434527\n",
      "[70]\ttraining's binary_logloss: 0.285597\tvalid_1's binary_logloss: 0.434932\n",
      "Early stopping, best iteration is:\n",
      "[66]\ttraining's binary_logloss: 0.293072\tvalid_1's binary_logloss: 0.433251\n"
     ]
    },
    {
     "name": "stderr",
     "output_type": "stream",
     "text": [
      "[I 2021-12-28 07:18:39,982] Finished trial#0 resulted in value: 0.4332512137886331. Current best value is 0.4332512137886331 with parameters: {'max_bin': 427, 'num_leaves': 79}.\n",
      "/opt/conda/lib/python3.6/site-packages/lightgbm/basic.py:1205: UserWarning:\n",
      "\n",
      "Using categorical_feature in Dataset.\n",
      "\n",
      "/opt/conda/lib/python3.6/site-packages/lightgbm/basic.py:762: UserWarning:\n",
      "\n",
      "categorical_feature in param dict is overridden.\n",
      "\n"
     ]
    },
    {
     "name": "stdout",
     "output_type": "stream",
     "text": [
      "Training until validation scores don't improve for 10 rounds.\n",
      "[10]\ttraining's binary_logloss: 0.505699\tvalid_1's binary_logloss: 0.532106\n",
      "[20]\ttraining's binary_logloss: 0.427825\tvalid_1's binary_logloss: 0.482279\n",
      "[30]\ttraining's binary_logloss: 0.377242\tvalid_1's binary_logloss: 0.456641\n",
      "[40]\ttraining's binary_logloss: 0.345424\tvalid_1's binary_logloss: 0.447083\n",
      "[50]\ttraining's binary_logloss: 0.323113\tvalid_1's binary_logloss: 0.440407\n",
      "[60]\ttraining's binary_logloss: 0.302727\tvalid_1's binary_logloss: 0.434527\n",
      "[70]\ttraining's binary_logloss: 0.285597\tvalid_1's binary_logloss: 0.434932\n",
      "Early stopping, best iteration is:\n",
      "[66]\ttraining's binary_logloss: 0.293072\tvalid_1's binary_logloss: 0.433251\n"
     ]
    },
    {
     "name": "stderr",
     "output_type": "stream",
     "text": [
      "[I 2021-12-28 07:18:40,247] Finished trial#1 resulted in value: 0.4332512137886331. Current best value is 0.4332512137886331 with parameters: {'max_bin': 427, 'num_leaves': 79}.\n",
      "/opt/conda/lib/python3.6/site-packages/lightgbm/basic.py:1205: UserWarning:\n",
      "\n",
      "Using categorical_feature in Dataset.\n",
      "\n",
      "/opt/conda/lib/python3.6/site-packages/lightgbm/basic.py:762: UserWarning:\n",
      "\n",
      "categorical_feature in param dict is overridden.\n",
      "\n"
     ]
    },
    {
     "name": "stdout",
     "output_type": "stream",
     "text": [
      "Training until validation scores don't improve for 10 rounds.\n",
      "[10]\ttraining's binary_logloss: 0.505699\tvalid_1's binary_logloss: 0.532106\n",
      "[20]\ttraining's binary_logloss: 0.427825\tvalid_1's binary_logloss: 0.482279\n",
      "[30]\ttraining's binary_logloss: 0.377242\tvalid_1's binary_logloss: 0.456641\n",
      "[40]\ttraining's binary_logloss: 0.345424\tvalid_1's binary_logloss: 0.447083\n",
      "[50]\ttraining's binary_logloss: 0.323113\tvalid_1's binary_logloss: 0.440407\n",
      "[60]\ttraining's binary_logloss: 0.302727\tvalid_1's binary_logloss: 0.434527\n",
      "[70]\ttraining's binary_logloss: 0.285597\tvalid_1's binary_logloss: 0.434932\n",
      "Early stopping, best iteration is:\n",
      "[66]\ttraining's binary_logloss: 0.293072\tvalid_1's binary_logloss: 0.433251\n"
     ]
    },
    {
     "name": "stderr",
     "output_type": "stream",
     "text": [
      "[I 2021-12-28 07:18:40,504] Finished trial#2 resulted in value: 0.4332512137886331. Current best value is 0.4332512137886331 with parameters: {'max_bin': 427, 'num_leaves': 79}.\n",
      "/opt/conda/lib/python3.6/site-packages/lightgbm/basic.py:1205: UserWarning:\n",
      "\n",
      "Using categorical_feature in Dataset.\n",
      "\n",
      "/opt/conda/lib/python3.6/site-packages/lightgbm/basic.py:762: UserWarning:\n",
      "\n",
      "categorical_feature in param dict is overridden.\n",
      "\n"
     ]
    },
    {
     "name": "stdout",
     "output_type": "stream",
     "text": [
      "Training until validation scores don't improve for 10 rounds.\n",
      "[10]\ttraining's binary_logloss: 0.505699\tvalid_1's binary_logloss: 0.532106\n",
      "[20]\ttraining's binary_logloss: 0.427825\tvalid_1's binary_logloss: 0.482279\n",
      "[30]\ttraining's binary_logloss: 0.377242\tvalid_1's binary_logloss: 0.456641\n",
      "[40]\ttraining's binary_logloss: 0.345424\tvalid_1's binary_logloss: 0.447083\n",
      "[50]\ttraining's binary_logloss: 0.323113\tvalid_1's binary_logloss: 0.440407\n",
      "[60]\ttraining's binary_logloss: 0.302727\tvalid_1's binary_logloss: 0.434527\n",
      "[70]\ttraining's binary_logloss: 0.285597\tvalid_1's binary_logloss: 0.434932\n",
      "Early stopping, best iteration is:\n",
      "[66]\ttraining's binary_logloss: 0.293072\tvalid_1's binary_logloss: 0.433251\n"
     ]
    },
    {
     "name": "stderr",
     "output_type": "stream",
     "text": [
      "[I 2021-12-28 07:18:40,769] Finished trial#3 resulted in value: 0.4332512137886331. Current best value is 0.4332512137886331 with parameters: {'max_bin': 427, 'num_leaves': 79}.\n",
      "/opt/conda/lib/python3.6/site-packages/lightgbm/basic.py:1205: UserWarning:\n",
      "\n",
      "Using categorical_feature in Dataset.\n",
      "\n",
      "/opt/conda/lib/python3.6/site-packages/lightgbm/basic.py:762: UserWarning:\n",
      "\n",
      "categorical_feature in param dict is overridden.\n",
      "\n"
     ]
    },
    {
     "name": "stdout",
     "output_type": "stream",
     "text": [
      "Training until validation scores don't improve for 10 rounds.\n",
      "[10]\ttraining's binary_logloss: 0.505699\tvalid_1's binary_logloss: 0.532106\n",
      "[20]\ttraining's binary_logloss: 0.427825\tvalid_1's binary_logloss: 0.482279\n",
      "[30]\ttraining's binary_logloss: 0.377242\tvalid_1's binary_logloss: 0.456641\n",
      "[40]\ttraining's binary_logloss: 0.345424\tvalid_1's binary_logloss: 0.447083\n",
      "[50]\ttraining's binary_logloss: 0.323113\tvalid_1's binary_logloss: 0.440407\n",
      "[60]\ttraining's binary_logloss: 0.302727\tvalid_1's binary_logloss: 0.434527\n",
      "[70]\ttraining's binary_logloss: 0.285597\tvalid_1's binary_logloss: 0.434932\n",
      "Early stopping, best iteration is:\n",
      "[66]\ttraining's binary_logloss: 0.293072\tvalid_1's binary_logloss: 0.433251\n"
     ]
    },
    {
     "name": "stderr",
     "output_type": "stream",
     "text": [
      "[I 2021-12-28 07:18:41,038] Finished trial#4 resulted in value: 0.4332512137886331. Current best value is 0.4332512137886331 with parameters: {'max_bin': 427, 'num_leaves': 79}.\n",
      "/opt/conda/lib/python3.6/site-packages/lightgbm/basic.py:1205: UserWarning:\n",
      "\n",
      "Using categorical_feature in Dataset.\n",
      "\n",
      "/opt/conda/lib/python3.6/site-packages/lightgbm/basic.py:762: UserWarning:\n",
      "\n",
      "categorical_feature in param dict is overridden.\n",
      "\n"
     ]
    },
    {
     "name": "stdout",
     "output_type": "stream",
     "text": [
      "Training until validation scores don't improve for 10 rounds.\n",
      "[10]\ttraining's binary_logloss: 0.505699\tvalid_1's binary_logloss: 0.532106\n",
      "[20]\ttraining's binary_logloss: 0.427825\tvalid_1's binary_logloss: 0.482279\n",
      "[30]\ttraining's binary_logloss: 0.377242\tvalid_1's binary_logloss: 0.456641\n",
      "[40]\ttraining's binary_logloss: 0.345424\tvalid_1's binary_logloss: 0.447083\n",
      "[50]\ttraining's binary_logloss: 0.323113\tvalid_1's binary_logloss: 0.440407\n",
      "[60]\ttraining's binary_logloss: 0.302727\tvalid_1's binary_logloss: 0.434527\n",
      "[70]\ttraining's binary_logloss: 0.285597\tvalid_1's binary_logloss: 0.434932\n",
      "Early stopping, best iteration is:\n",
      "[66]\ttraining's binary_logloss: 0.293072\tvalid_1's binary_logloss: 0.433251\n"
     ]
    },
    {
     "name": "stderr",
     "output_type": "stream",
     "text": [
      "[I 2021-12-28 07:18:41,320] Finished trial#5 resulted in value: 0.4332512137886331. Current best value is 0.4332512137886331 with parameters: {'max_bin': 427, 'num_leaves': 79}.\n",
      "/opt/conda/lib/python3.6/site-packages/lightgbm/basic.py:1205: UserWarning:\n",
      "\n",
      "Using categorical_feature in Dataset.\n",
      "\n",
      "/opt/conda/lib/python3.6/site-packages/lightgbm/basic.py:762: UserWarning:\n",
      "\n",
      "categorical_feature in param dict is overridden.\n",
      "\n"
     ]
    },
    {
     "name": "stdout",
     "output_type": "stream",
     "text": [
      "Training until validation scores don't improve for 10 rounds.\n",
      "[10]\ttraining's binary_logloss: 0.505699\tvalid_1's binary_logloss: 0.532106\n",
      "[20]\ttraining's binary_logloss: 0.427825\tvalid_1's binary_logloss: 0.482279\n",
      "[30]\ttraining's binary_logloss: 0.377242\tvalid_1's binary_logloss: 0.456641\n",
      "[40]\ttraining's binary_logloss: 0.345424\tvalid_1's binary_logloss: 0.447083\n",
      "[50]\ttraining's binary_logloss: 0.323113\tvalid_1's binary_logloss: 0.440407\n",
      "[60]\ttraining's binary_logloss: 0.302727\tvalid_1's binary_logloss: 0.434527\n",
      "[70]\ttraining's binary_logloss: 0.285597\tvalid_1's binary_logloss: 0.434932\n",
      "Early stopping, best iteration is:\n",
      "[66]\ttraining's binary_logloss: 0.293072\tvalid_1's binary_logloss: 0.433251\n"
     ]
    },
    {
     "name": "stderr",
     "output_type": "stream",
     "text": [
      "[I 2021-12-28 07:18:41,579] Finished trial#6 resulted in value: 0.4332512137886331. Current best value is 0.4332512137886331 with parameters: {'max_bin': 427, 'num_leaves': 79}.\n",
      "/opt/conda/lib/python3.6/site-packages/lightgbm/basic.py:1205: UserWarning:\n",
      "\n",
      "Using categorical_feature in Dataset.\n",
      "\n",
      "/opt/conda/lib/python3.6/site-packages/lightgbm/basic.py:762: UserWarning:\n",
      "\n",
      "categorical_feature in param dict is overridden.\n",
      "\n"
     ]
    },
    {
     "name": "stdout",
     "output_type": "stream",
     "text": [
      "Training until validation scores don't improve for 10 rounds.\n",
      "[10]\ttraining's binary_logloss: 0.505699\tvalid_1's binary_logloss: 0.532106\n",
      "[20]\ttraining's binary_logloss: 0.427825\tvalid_1's binary_logloss: 0.482279\n",
      "[30]\ttraining's binary_logloss: 0.377242\tvalid_1's binary_logloss: 0.456641\n",
      "[40]\ttraining's binary_logloss: 0.345424\tvalid_1's binary_logloss: 0.447083\n",
      "[50]\ttraining's binary_logloss: 0.323113\tvalid_1's binary_logloss: 0.440407\n",
      "[60]\ttraining's binary_logloss: 0.302727\tvalid_1's binary_logloss: 0.434527\n",
      "[70]\ttraining's binary_logloss: 0.285597\tvalid_1's binary_logloss: 0.434932\n",
      "Early stopping, best iteration is:\n",
      "[66]\ttraining's binary_logloss: 0.293072\tvalid_1's binary_logloss: 0.433251\n"
     ]
    },
    {
     "name": "stderr",
     "output_type": "stream",
     "text": [
      "[I 2021-12-28 07:18:41,837] Finished trial#7 resulted in value: 0.4332512137886331. Current best value is 0.4332512137886331 with parameters: {'max_bin': 427, 'num_leaves': 79}.\n",
      "/opt/conda/lib/python3.6/site-packages/lightgbm/basic.py:1205: UserWarning:\n",
      "\n",
      "Using categorical_feature in Dataset.\n",
      "\n",
      "/opt/conda/lib/python3.6/site-packages/lightgbm/basic.py:762: UserWarning:\n",
      "\n",
      "categorical_feature in param dict is overridden.\n",
      "\n"
     ]
    },
    {
     "name": "stdout",
     "output_type": "stream",
     "text": [
      "Training until validation scores don't improve for 10 rounds.\n",
      "[10]\ttraining's binary_logloss: 0.505699\tvalid_1's binary_logloss: 0.532106\n",
      "[20]\ttraining's binary_logloss: 0.427825\tvalid_1's binary_logloss: 0.482279\n",
      "[30]\ttraining's binary_logloss: 0.377242\tvalid_1's binary_logloss: 0.456641\n",
      "[40]\ttraining's binary_logloss: 0.345424\tvalid_1's binary_logloss: 0.447083\n",
      "[50]\ttraining's binary_logloss: 0.323113\tvalid_1's binary_logloss: 0.440407\n",
      "[60]\ttraining's binary_logloss: 0.302727\tvalid_1's binary_logloss: 0.434527\n",
      "[70]\ttraining's binary_logloss: 0.285597\tvalid_1's binary_logloss: 0.434932\n",
      "Early stopping, best iteration is:\n",
      "[66]\ttraining's binary_logloss: 0.293072\tvalid_1's binary_logloss: 0.433251\n"
     ]
    },
    {
     "name": "stderr",
     "output_type": "stream",
     "text": [
      "[I 2021-12-28 07:18:42,103] Finished trial#8 resulted in value: 0.4332512137886331. Current best value is 0.4332512137886331 with parameters: {'max_bin': 427, 'num_leaves': 79}.\n",
      "/opt/conda/lib/python3.6/site-packages/lightgbm/basic.py:1205: UserWarning:\n",
      "\n",
      "Using categorical_feature in Dataset.\n",
      "\n",
      "/opt/conda/lib/python3.6/site-packages/lightgbm/basic.py:762: UserWarning:\n",
      "\n",
      "categorical_feature in param dict is overridden.\n",
      "\n"
     ]
    },
    {
     "name": "stdout",
     "output_type": "stream",
     "text": [
      "Training until validation scores don't improve for 10 rounds.\n",
      "[10]\ttraining's binary_logloss: 0.505699\tvalid_1's binary_logloss: 0.532106\n",
      "[20]\ttraining's binary_logloss: 0.427825\tvalid_1's binary_logloss: 0.482279\n",
      "[30]\ttraining's binary_logloss: 0.377242\tvalid_1's binary_logloss: 0.456641\n",
      "[40]\ttraining's binary_logloss: 0.345424\tvalid_1's binary_logloss: 0.447083\n",
      "[50]\ttraining's binary_logloss: 0.323113\tvalid_1's binary_logloss: 0.440407\n",
      "[60]\ttraining's binary_logloss: 0.302727\tvalid_1's binary_logloss: 0.434527\n",
      "[70]\ttraining's binary_logloss: 0.285597\tvalid_1's binary_logloss: 0.434932\n",
      "Early stopping, best iteration is:\n",
      "[66]\ttraining's binary_logloss: 0.293072\tvalid_1's binary_logloss: 0.433251\n"
     ]
    },
    {
     "name": "stderr",
     "output_type": "stream",
     "text": [
      "[I 2021-12-28 07:18:42,361] Finished trial#9 resulted in value: 0.4332512137886331. Current best value is 0.4332512137886331 with parameters: {'max_bin': 427, 'num_leaves': 79}.\n",
      "/opt/conda/lib/python3.6/site-packages/lightgbm/basic.py:1205: UserWarning:\n",
      "\n",
      "Using categorical_feature in Dataset.\n",
      "\n",
      "/opt/conda/lib/python3.6/site-packages/lightgbm/basic.py:762: UserWarning:\n",
      "\n",
      "categorical_feature in param dict is overridden.\n",
      "\n"
     ]
    },
    {
     "name": "stdout",
     "output_type": "stream",
     "text": [
      "Training until validation scores don't improve for 10 rounds.\n",
      "[10]\ttraining's binary_logloss: 0.505699\tvalid_1's binary_logloss: 0.532106\n",
      "[20]\ttraining's binary_logloss: 0.427825\tvalid_1's binary_logloss: 0.482279\n",
      "[30]\ttraining's binary_logloss: 0.377242\tvalid_1's binary_logloss: 0.456641\n",
      "[40]\ttraining's binary_logloss: 0.345424\tvalid_1's binary_logloss: 0.447083\n",
      "[50]\ttraining's binary_logloss: 0.323113\tvalid_1's binary_logloss: 0.440407\n",
      "[60]\ttraining's binary_logloss: 0.302727\tvalid_1's binary_logloss: 0.434527\n",
      "[70]\ttraining's binary_logloss: 0.285597\tvalid_1's binary_logloss: 0.434932\n",
      "Early stopping, best iteration is:\n",
      "[66]\ttraining's binary_logloss: 0.293072\tvalid_1's binary_logloss: 0.433251\n"
     ]
    },
    {
     "name": "stderr",
     "output_type": "stream",
     "text": [
      "[I 2021-12-28 07:18:42,621] Finished trial#10 resulted in value: 0.4332512137886331. Current best value is 0.4332512137886331 with parameters: {'max_bin': 427, 'num_leaves': 79}.\n",
      "/opt/conda/lib/python3.6/site-packages/lightgbm/basic.py:1205: UserWarning:\n",
      "\n",
      "Using categorical_feature in Dataset.\n",
      "\n",
      "/opt/conda/lib/python3.6/site-packages/lightgbm/basic.py:762: UserWarning:\n",
      "\n",
      "categorical_feature in param dict is overridden.\n",
      "\n"
     ]
    },
    {
     "name": "stdout",
     "output_type": "stream",
     "text": [
      "Training until validation scores don't improve for 10 rounds.\n",
      "[10]\ttraining's binary_logloss: 0.505699\tvalid_1's binary_logloss: 0.532106\n",
      "[20]\ttraining's binary_logloss: 0.427825\tvalid_1's binary_logloss: 0.482279\n",
      "[30]\ttraining's binary_logloss: 0.377242\tvalid_1's binary_logloss: 0.456641\n",
      "[40]\ttraining's binary_logloss: 0.345424\tvalid_1's binary_logloss: 0.447083\n",
      "[50]\ttraining's binary_logloss: 0.323113\tvalid_1's binary_logloss: 0.440407\n",
      "[60]\ttraining's binary_logloss: 0.302727\tvalid_1's binary_logloss: 0.434527\n",
      "[70]\ttraining's binary_logloss: 0.285597\tvalid_1's binary_logloss: 0.434932\n",
      "Early stopping, best iteration is:\n",
      "[66]\ttraining's binary_logloss: 0.293072\tvalid_1's binary_logloss: 0.433251\n"
     ]
    },
    {
     "name": "stderr",
     "output_type": "stream",
     "text": [
      "[I 2021-12-28 07:18:42,881] Finished trial#11 resulted in value: 0.4332512137886331. Current best value is 0.4332512137886331 with parameters: {'max_bin': 427, 'num_leaves': 79}.\n",
      "/opt/conda/lib/python3.6/site-packages/lightgbm/basic.py:1205: UserWarning:\n",
      "\n",
      "Using categorical_feature in Dataset.\n",
      "\n",
      "/opt/conda/lib/python3.6/site-packages/lightgbm/basic.py:762: UserWarning:\n",
      "\n",
      "categorical_feature in param dict is overridden.\n",
      "\n"
     ]
    },
    {
     "name": "stdout",
     "output_type": "stream",
     "text": [
      "Training until validation scores don't improve for 10 rounds.\n",
      "[10]\ttraining's binary_logloss: 0.505699\tvalid_1's binary_logloss: 0.532106\n",
      "[20]\ttraining's binary_logloss: 0.427825\tvalid_1's binary_logloss: 0.482279\n",
      "[30]\ttraining's binary_logloss: 0.377242\tvalid_1's binary_logloss: 0.456641\n",
      "[40]\ttraining's binary_logloss: 0.345424\tvalid_1's binary_logloss: 0.447083\n",
      "[50]\ttraining's binary_logloss: 0.323113\tvalid_1's binary_logloss: 0.440407\n",
      "[60]\ttraining's binary_logloss: 0.302727\tvalid_1's binary_logloss: 0.434527\n",
      "[70]\ttraining's binary_logloss: 0.285597\tvalid_1's binary_logloss: 0.434932\n",
      "Early stopping, best iteration is:\n",
      "[66]\ttraining's binary_logloss: 0.293072\tvalid_1's binary_logloss: 0.433251\n"
     ]
    },
    {
     "name": "stderr",
     "output_type": "stream",
     "text": [
      "[I 2021-12-28 07:18:43,140] Finished trial#12 resulted in value: 0.4332512137886331. Current best value is 0.4332512137886331 with parameters: {'max_bin': 427, 'num_leaves': 79}.\n",
      "/opt/conda/lib/python3.6/site-packages/lightgbm/basic.py:1205: UserWarning:\n",
      "\n",
      "Using categorical_feature in Dataset.\n",
      "\n",
      "/opt/conda/lib/python3.6/site-packages/lightgbm/basic.py:762: UserWarning:\n",
      "\n",
      "categorical_feature in param dict is overridden.\n",
      "\n"
     ]
    },
    {
     "name": "stdout",
     "output_type": "stream",
     "text": [
      "Training until validation scores don't improve for 10 rounds.\n",
      "[10]\ttraining's binary_logloss: 0.505699\tvalid_1's binary_logloss: 0.532106\n",
      "[20]\ttraining's binary_logloss: 0.427825\tvalid_1's binary_logloss: 0.482279\n",
      "[30]\ttraining's binary_logloss: 0.377242\tvalid_1's binary_logloss: 0.456641\n",
      "[40]\ttraining's binary_logloss: 0.345424\tvalid_1's binary_logloss: 0.447083\n",
      "[50]\ttraining's binary_logloss: 0.323113\tvalid_1's binary_logloss: 0.440407\n",
      "[60]\ttraining's binary_logloss: 0.302727\tvalid_1's binary_logloss: 0.434527\n",
      "[70]\ttraining's binary_logloss: 0.285597\tvalid_1's binary_logloss: 0.434932\n",
      "Early stopping, best iteration is:\n",
      "[66]\ttraining's binary_logloss: 0.293072\tvalid_1's binary_logloss: 0.433251\n"
     ]
    },
    {
     "name": "stderr",
     "output_type": "stream",
     "text": [
      "[I 2021-12-28 07:18:43,408] Finished trial#13 resulted in value: 0.4332512137886331. Current best value is 0.4332512137886331 with parameters: {'max_bin': 427, 'num_leaves': 79}.\n",
      "/opt/conda/lib/python3.6/site-packages/lightgbm/basic.py:1205: UserWarning:\n",
      "\n",
      "Using categorical_feature in Dataset.\n",
      "\n",
      "/opt/conda/lib/python3.6/site-packages/lightgbm/basic.py:762: UserWarning:\n",
      "\n",
      "categorical_feature in param dict is overridden.\n",
      "\n"
     ]
    },
    {
     "name": "stdout",
     "output_type": "stream",
     "text": [
      "Training until validation scores don't improve for 10 rounds.\n",
      "[10]\ttraining's binary_logloss: 0.505699\tvalid_1's binary_logloss: 0.532106\n",
      "[20]\ttraining's binary_logloss: 0.427825\tvalid_1's binary_logloss: 0.482279\n",
      "[30]\ttraining's binary_logloss: 0.377242\tvalid_1's binary_logloss: 0.456641\n",
      "[40]\ttraining's binary_logloss: 0.345424\tvalid_1's binary_logloss: 0.447083\n",
      "[50]\ttraining's binary_logloss: 0.323113\tvalid_1's binary_logloss: 0.440407\n",
      "[60]\ttraining's binary_logloss: 0.302727\tvalid_1's binary_logloss: 0.434527\n",
      "[70]\ttraining's binary_logloss: 0.285597\tvalid_1's binary_logloss: 0.434932\n",
      "Early stopping, best iteration is:\n",
      "[66]\ttraining's binary_logloss: 0.293072\tvalid_1's binary_logloss: 0.433251\n"
     ]
    },
    {
     "name": "stderr",
     "output_type": "stream",
     "text": [
      "[I 2021-12-28 07:18:43,681] Finished trial#14 resulted in value: 0.4332512137886331. Current best value is 0.4332512137886331 with parameters: {'max_bin': 427, 'num_leaves': 79}.\n",
      "/opt/conda/lib/python3.6/site-packages/lightgbm/basic.py:1205: UserWarning:\n",
      "\n",
      "Using categorical_feature in Dataset.\n",
      "\n",
      "/opt/conda/lib/python3.6/site-packages/lightgbm/basic.py:762: UserWarning:\n",
      "\n",
      "categorical_feature in param dict is overridden.\n",
      "\n"
     ]
    },
    {
     "name": "stdout",
     "output_type": "stream",
     "text": [
      "Training until validation scores don't improve for 10 rounds.\n",
      "[10]\ttraining's binary_logloss: 0.505699\tvalid_1's binary_logloss: 0.532106\n",
      "[20]\ttraining's binary_logloss: 0.427825\tvalid_1's binary_logloss: 0.482279\n",
      "[30]\ttraining's binary_logloss: 0.377242\tvalid_1's binary_logloss: 0.456641\n",
      "[40]\ttraining's binary_logloss: 0.345424\tvalid_1's binary_logloss: 0.447083\n",
      "[50]\ttraining's binary_logloss: 0.323113\tvalid_1's binary_logloss: 0.440407\n",
      "[60]\ttraining's binary_logloss: 0.302727\tvalid_1's binary_logloss: 0.434527\n",
      "[70]\ttraining's binary_logloss: 0.285597\tvalid_1's binary_logloss: 0.434932\n",
      "Early stopping, best iteration is:\n",
      "[66]\ttraining's binary_logloss: 0.293072\tvalid_1's binary_logloss: 0.433251\n"
     ]
    },
    {
     "name": "stderr",
     "output_type": "stream",
     "text": [
      "[I 2021-12-28 07:18:43,960] Finished trial#15 resulted in value: 0.4332512137886331. Current best value is 0.4332512137886331 with parameters: {'max_bin': 427, 'num_leaves': 79}.\n",
      "/opt/conda/lib/python3.6/site-packages/lightgbm/basic.py:1205: UserWarning:\n",
      "\n",
      "Using categorical_feature in Dataset.\n",
      "\n",
      "/opt/conda/lib/python3.6/site-packages/lightgbm/basic.py:762: UserWarning:\n",
      "\n",
      "categorical_feature in param dict is overridden.\n",
      "\n"
     ]
    },
    {
     "name": "stdout",
     "output_type": "stream",
     "text": [
      "Training until validation scores don't improve for 10 rounds.\n",
      "[10]\ttraining's binary_logloss: 0.505699\tvalid_1's binary_logloss: 0.532106\n",
      "[20]\ttraining's binary_logloss: 0.427825\tvalid_1's binary_logloss: 0.482279\n",
      "[30]\ttraining's binary_logloss: 0.377242\tvalid_1's binary_logloss: 0.456641\n",
      "[40]\ttraining's binary_logloss: 0.345424\tvalid_1's binary_logloss: 0.447083\n",
      "[50]\ttraining's binary_logloss: 0.323113\tvalid_1's binary_logloss: 0.440407\n",
      "[60]\ttraining's binary_logloss: 0.302727\tvalid_1's binary_logloss: 0.434527\n",
      "[70]\ttraining's binary_logloss: 0.285597\tvalid_1's binary_logloss: 0.434932\n",
      "Early stopping, best iteration is:\n",
      "[66]\ttraining's binary_logloss: 0.293072\tvalid_1's binary_logloss: 0.433251\n"
     ]
    },
    {
     "name": "stderr",
     "output_type": "stream",
     "text": [
      "[I 2021-12-28 07:18:44,214] Finished trial#16 resulted in value: 0.4332512137886331. Current best value is 0.4332512137886331 with parameters: {'max_bin': 427, 'num_leaves': 79}.\n",
      "/opt/conda/lib/python3.6/site-packages/lightgbm/basic.py:1205: UserWarning:\n",
      "\n",
      "Using categorical_feature in Dataset.\n",
      "\n",
      "/opt/conda/lib/python3.6/site-packages/lightgbm/basic.py:762: UserWarning:\n",
      "\n",
      "categorical_feature in param dict is overridden.\n",
      "\n"
     ]
    },
    {
     "name": "stdout",
     "output_type": "stream",
     "text": [
      "Training until validation scores don't improve for 10 rounds.\n",
      "[10]\ttraining's binary_logloss: 0.505699\tvalid_1's binary_logloss: 0.532106\n",
      "[20]\ttraining's binary_logloss: 0.427825\tvalid_1's binary_logloss: 0.482279\n",
      "[30]\ttraining's binary_logloss: 0.377242\tvalid_1's binary_logloss: 0.456641\n",
      "[40]\ttraining's binary_logloss: 0.345424\tvalid_1's binary_logloss: 0.447083\n",
      "[50]\ttraining's binary_logloss: 0.323113\tvalid_1's binary_logloss: 0.440407\n",
      "[60]\ttraining's binary_logloss: 0.302727\tvalid_1's binary_logloss: 0.434527\n",
      "[70]\ttraining's binary_logloss: 0.285597\tvalid_1's binary_logloss: 0.434932\n",
      "Early stopping, best iteration is:\n",
      "[66]\ttraining's binary_logloss: 0.293072\tvalid_1's binary_logloss: 0.433251\n"
     ]
    },
    {
     "name": "stderr",
     "output_type": "stream",
     "text": [
      "[I 2021-12-28 07:18:44,471] Finished trial#17 resulted in value: 0.4332512137886331. Current best value is 0.4332512137886331 with parameters: {'max_bin': 427, 'num_leaves': 79}.\n",
      "/opt/conda/lib/python3.6/site-packages/lightgbm/basic.py:1205: UserWarning:\n",
      "\n",
      "Using categorical_feature in Dataset.\n",
      "\n",
      "/opt/conda/lib/python3.6/site-packages/lightgbm/basic.py:762: UserWarning:\n",
      "\n",
      "categorical_feature in param dict is overridden.\n",
      "\n"
     ]
    },
    {
     "name": "stdout",
     "output_type": "stream",
     "text": [
      "Training until validation scores don't improve for 10 rounds.\n",
      "[10]\ttraining's binary_logloss: 0.505699\tvalid_1's binary_logloss: 0.532106\n",
      "[20]\ttraining's binary_logloss: 0.427825\tvalid_1's binary_logloss: 0.482279\n",
      "[30]\ttraining's binary_logloss: 0.377242\tvalid_1's binary_logloss: 0.456641\n",
      "[40]\ttraining's binary_logloss: 0.345424\tvalid_1's binary_logloss: 0.447083\n",
      "[50]\ttraining's binary_logloss: 0.323113\tvalid_1's binary_logloss: 0.440407\n",
      "[60]\ttraining's binary_logloss: 0.302727\tvalid_1's binary_logloss: 0.434527\n",
      "[70]\ttraining's binary_logloss: 0.285597\tvalid_1's binary_logloss: 0.434932\n",
      "Early stopping, best iteration is:\n",
      "[66]\ttraining's binary_logloss: 0.293072\tvalid_1's binary_logloss: 0.433251\n"
     ]
    },
    {
     "name": "stderr",
     "output_type": "stream",
     "text": [
      "[I 2021-12-28 07:18:44,740] Finished trial#18 resulted in value: 0.4332512137886331. Current best value is 0.4332512137886331 with parameters: {'max_bin': 427, 'num_leaves': 79}.\n",
      "/opt/conda/lib/python3.6/site-packages/lightgbm/basic.py:1205: UserWarning:\n",
      "\n",
      "Using categorical_feature in Dataset.\n",
      "\n",
      "/opt/conda/lib/python3.6/site-packages/lightgbm/basic.py:762: UserWarning:\n",
      "\n",
      "categorical_feature in param dict is overridden.\n",
      "\n"
     ]
    },
    {
     "name": "stdout",
     "output_type": "stream",
     "text": [
      "Training until validation scores don't improve for 10 rounds.\n",
      "[10]\ttraining's binary_logloss: 0.505699\tvalid_1's binary_logloss: 0.532106\n",
      "[20]\ttraining's binary_logloss: 0.427825\tvalid_1's binary_logloss: 0.482279\n",
      "[30]\ttraining's binary_logloss: 0.377242\tvalid_1's binary_logloss: 0.456641\n",
      "[40]\ttraining's binary_logloss: 0.345424\tvalid_1's binary_logloss: 0.447083\n",
      "[50]\ttraining's binary_logloss: 0.323113\tvalid_1's binary_logloss: 0.440407\n",
      "[60]\ttraining's binary_logloss: 0.302727\tvalid_1's binary_logloss: 0.434527\n",
      "[70]\ttraining's binary_logloss: 0.285597\tvalid_1's binary_logloss: 0.434932\n",
      "Early stopping, best iteration is:\n",
      "[66]\ttraining's binary_logloss: 0.293072\tvalid_1's binary_logloss: 0.433251\n"
     ]
    },
    {
     "name": "stderr",
     "output_type": "stream",
     "text": [
      "[I 2021-12-28 07:18:45,013] Finished trial#19 resulted in value: 0.4332512137886331. Current best value is 0.4332512137886331 with parameters: {'max_bin': 427, 'num_leaves': 79}.\n",
      "/opt/conda/lib/python3.6/site-packages/lightgbm/basic.py:1205: UserWarning:\n",
      "\n",
      "Using categorical_feature in Dataset.\n",
      "\n",
      "/opt/conda/lib/python3.6/site-packages/lightgbm/basic.py:762: UserWarning:\n",
      "\n",
      "categorical_feature in param dict is overridden.\n",
      "\n"
     ]
    },
    {
     "name": "stdout",
     "output_type": "stream",
     "text": [
      "Training until validation scores don't improve for 10 rounds.\n",
      "[10]\ttraining's binary_logloss: 0.505699\tvalid_1's binary_logloss: 0.532106\n",
      "[20]\ttraining's binary_logloss: 0.427825\tvalid_1's binary_logloss: 0.482279\n",
      "[30]\ttraining's binary_logloss: 0.377242\tvalid_1's binary_logloss: 0.456641\n",
      "[40]\ttraining's binary_logloss: 0.345424\tvalid_1's binary_logloss: 0.447083\n",
      "[50]\ttraining's binary_logloss: 0.323113\tvalid_1's binary_logloss: 0.440407\n",
      "[60]\ttraining's binary_logloss: 0.302727\tvalid_1's binary_logloss: 0.434527\n",
      "[70]\ttraining's binary_logloss: 0.285597\tvalid_1's binary_logloss: 0.434932\n",
      "Early stopping, best iteration is:\n",
      "[66]\ttraining's binary_logloss: 0.293072\tvalid_1's binary_logloss: 0.433251\n"
     ]
    },
    {
     "name": "stderr",
     "output_type": "stream",
     "text": [
      "[I 2021-12-28 07:18:45,281] Finished trial#20 resulted in value: 0.4332512137886331. Current best value is 0.4332512137886331 with parameters: {'max_bin': 427, 'num_leaves': 79}.\n",
      "/opt/conda/lib/python3.6/site-packages/lightgbm/basic.py:1205: UserWarning:\n",
      "\n",
      "Using categorical_feature in Dataset.\n",
      "\n",
      "/opt/conda/lib/python3.6/site-packages/lightgbm/basic.py:762: UserWarning:\n",
      "\n",
      "categorical_feature in param dict is overridden.\n",
      "\n"
     ]
    },
    {
     "name": "stdout",
     "output_type": "stream",
     "text": [
      "Training until validation scores don't improve for 10 rounds.\n",
      "[10]\ttraining's binary_logloss: 0.505699\tvalid_1's binary_logloss: 0.532106\n",
      "[20]\ttraining's binary_logloss: 0.427825\tvalid_1's binary_logloss: 0.482279\n",
      "[30]\ttraining's binary_logloss: 0.377242\tvalid_1's binary_logloss: 0.456641\n",
      "[40]\ttraining's binary_logloss: 0.345424\tvalid_1's binary_logloss: 0.447083\n",
      "[50]\ttraining's binary_logloss: 0.323113\tvalid_1's binary_logloss: 0.440407\n",
      "[60]\ttraining's binary_logloss: 0.302727\tvalid_1's binary_logloss: 0.434527\n",
      "[70]\ttraining's binary_logloss: 0.285597\tvalid_1's binary_logloss: 0.434932\n",
      "Early stopping, best iteration is:\n",
      "[66]\ttraining's binary_logloss: 0.293072\tvalid_1's binary_logloss: 0.433251\n"
     ]
    },
    {
     "name": "stderr",
     "output_type": "stream",
     "text": [
      "[I 2021-12-28 07:18:45,533] Finished trial#21 resulted in value: 0.4332512137886331. Current best value is 0.4332512137886331 with parameters: {'max_bin': 427, 'num_leaves': 79}.\n",
      "/opt/conda/lib/python3.6/site-packages/lightgbm/basic.py:1205: UserWarning:\n",
      "\n",
      "Using categorical_feature in Dataset.\n",
      "\n",
      "/opt/conda/lib/python3.6/site-packages/lightgbm/basic.py:762: UserWarning:\n",
      "\n",
      "categorical_feature in param dict is overridden.\n",
      "\n"
     ]
    },
    {
     "name": "stdout",
     "output_type": "stream",
     "text": [
      "Training until validation scores don't improve for 10 rounds.\n",
      "[10]\ttraining's binary_logloss: 0.505699\tvalid_1's binary_logloss: 0.532106\n",
      "[20]\ttraining's binary_logloss: 0.427825\tvalid_1's binary_logloss: 0.482279\n",
      "[30]\ttraining's binary_logloss: 0.377242\tvalid_1's binary_logloss: 0.456641\n",
      "[40]\ttraining's binary_logloss: 0.345424\tvalid_1's binary_logloss: 0.447083\n",
      "[50]\ttraining's binary_logloss: 0.323113\tvalid_1's binary_logloss: 0.440407\n",
      "[60]\ttraining's binary_logloss: 0.302727\tvalid_1's binary_logloss: 0.434527\n",
      "[70]\ttraining's binary_logloss: 0.285597\tvalid_1's binary_logloss: 0.434932\n",
      "Early stopping, best iteration is:\n",
      "[66]\ttraining's binary_logloss: 0.293072\tvalid_1's binary_logloss: 0.433251\n"
     ]
    },
    {
     "name": "stderr",
     "output_type": "stream",
     "text": [
      "[I 2021-12-28 07:18:45,795] Finished trial#22 resulted in value: 0.4332512137886331. Current best value is 0.4332512137886331 with parameters: {'max_bin': 427, 'num_leaves': 79}.\n",
      "/opt/conda/lib/python3.6/site-packages/lightgbm/basic.py:1205: UserWarning:\n",
      "\n",
      "Using categorical_feature in Dataset.\n",
      "\n",
      "/opt/conda/lib/python3.6/site-packages/lightgbm/basic.py:762: UserWarning:\n",
      "\n",
      "categorical_feature in param dict is overridden.\n",
      "\n"
     ]
    },
    {
     "name": "stdout",
     "output_type": "stream",
     "text": [
      "Training until validation scores don't improve for 10 rounds.\n",
      "[10]\ttraining's binary_logloss: 0.505699\tvalid_1's binary_logloss: 0.532106\n",
      "[20]\ttraining's binary_logloss: 0.427825\tvalid_1's binary_logloss: 0.482279\n",
      "[30]\ttraining's binary_logloss: 0.377242\tvalid_1's binary_logloss: 0.456641\n",
      "[40]\ttraining's binary_logloss: 0.345424\tvalid_1's binary_logloss: 0.447083\n",
      "[50]\ttraining's binary_logloss: 0.323113\tvalid_1's binary_logloss: 0.440407\n",
      "[60]\ttraining's binary_logloss: 0.302727\tvalid_1's binary_logloss: 0.434527\n",
      "[70]\ttraining's binary_logloss: 0.285597\tvalid_1's binary_logloss: 0.434932\n",
      "Early stopping, best iteration is:\n",
      "[66]\ttraining's binary_logloss: 0.293072\tvalid_1's binary_logloss: 0.433251\n"
     ]
    },
    {
     "name": "stderr",
     "output_type": "stream",
     "text": [
      "[I 2021-12-28 07:18:46,048] Finished trial#23 resulted in value: 0.4332512137886331. Current best value is 0.4332512137886331 with parameters: {'max_bin': 427, 'num_leaves': 79}.\n",
      "/opt/conda/lib/python3.6/site-packages/lightgbm/basic.py:1205: UserWarning:\n",
      "\n",
      "Using categorical_feature in Dataset.\n",
      "\n",
      "/opt/conda/lib/python3.6/site-packages/lightgbm/basic.py:762: UserWarning:\n",
      "\n",
      "categorical_feature in param dict is overridden.\n",
      "\n"
     ]
    },
    {
     "name": "stdout",
     "output_type": "stream",
     "text": [
      "Training until validation scores don't improve for 10 rounds.\n",
      "[10]\ttraining's binary_logloss: 0.505699\tvalid_1's binary_logloss: 0.532106\n",
      "[20]\ttraining's binary_logloss: 0.427825\tvalid_1's binary_logloss: 0.482279\n",
      "[30]\ttraining's binary_logloss: 0.377242\tvalid_1's binary_logloss: 0.456641\n",
      "[40]\ttraining's binary_logloss: 0.345424\tvalid_1's binary_logloss: 0.447083\n",
      "[50]\ttraining's binary_logloss: 0.323113\tvalid_1's binary_logloss: 0.440407\n",
      "[60]\ttraining's binary_logloss: 0.302727\tvalid_1's binary_logloss: 0.434527\n",
      "[70]\ttraining's binary_logloss: 0.285597\tvalid_1's binary_logloss: 0.434932\n",
      "Early stopping, best iteration is:\n",
      "[66]\ttraining's binary_logloss: 0.293072\tvalid_1's binary_logloss: 0.433251\n"
     ]
    },
    {
     "name": "stderr",
     "output_type": "stream",
     "text": [
      "[I 2021-12-28 07:18:46,312] Finished trial#24 resulted in value: 0.4332512137886331. Current best value is 0.4332512137886331 with parameters: {'max_bin': 427, 'num_leaves': 79}.\n",
      "/opt/conda/lib/python3.6/site-packages/lightgbm/basic.py:1205: UserWarning:\n",
      "\n",
      "Using categorical_feature in Dataset.\n",
      "\n",
      "/opt/conda/lib/python3.6/site-packages/lightgbm/basic.py:762: UserWarning:\n",
      "\n",
      "categorical_feature in param dict is overridden.\n",
      "\n"
     ]
    },
    {
     "name": "stdout",
     "output_type": "stream",
     "text": [
      "Training until validation scores don't improve for 10 rounds.\n",
      "[10]\ttraining's binary_logloss: 0.505699\tvalid_1's binary_logloss: 0.532106\n",
      "[20]\ttraining's binary_logloss: 0.427825\tvalid_1's binary_logloss: 0.482279\n",
      "[30]\ttraining's binary_logloss: 0.377242\tvalid_1's binary_logloss: 0.456641\n",
      "[40]\ttraining's binary_logloss: 0.345424\tvalid_1's binary_logloss: 0.447083\n",
      "[50]\ttraining's binary_logloss: 0.323113\tvalid_1's binary_logloss: 0.440407\n",
      "[60]\ttraining's binary_logloss: 0.302727\tvalid_1's binary_logloss: 0.434527\n",
      "[70]\ttraining's binary_logloss: 0.285597\tvalid_1's binary_logloss: 0.434932\n",
      "Early stopping, best iteration is:\n",
      "[66]\ttraining's binary_logloss: 0.293072\tvalid_1's binary_logloss: 0.433251\n"
     ]
    },
    {
     "name": "stderr",
     "output_type": "stream",
     "text": [
      "[I 2021-12-28 07:18:46,579] Finished trial#25 resulted in value: 0.4332512137886331. Current best value is 0.4332512137886331 with parameters: {'max_bin': 427, 'num_leaves': 79}.\n",
      "/opt/conda/lib/python3.6/site-packages/lightgbm/basic.py:1205: UserWarning:\n",
      "\n",
      "Using categorical_feature in Dataset.\n",
      "\n",
      "/opt/conda/lib/python3.6/site-packages/lightgbm/basic.py:762: UserWarning:\n",
      "\n",
      "categorical_feature in param dict is overridden.\n",
      "\n"
     ]
    },
    {
     "name": "stdout",
     "output_type": "stream",
     "text": [
      "Training until validation scores don't improve for 10 rounds.\n",
      "[10]\ttraining's binary_logloss: 0.505699\tvalid_1's binary_logloss: 0.532106\n",
      "[20]\ttraining's binary_logloss: 0.427825\tvalid_1's binary_logloss: 0.482279\n",
      "[30]\ttraining's binary_logloss: 0.377242\tvalid_1's binary_logloss: 0.456641\n",
      "[40]\ttraining's binary_logloss: 0.345424\tvalid_1's binary_logloss: 0.447083\n",
      "[50]\ttraining's binary_logloss: 0.323113\tvalid_1's binary_logloss: 0.440407\n",
      "[60]\ttraining's binary_logloss: 0.302727\tvalid_1's binary_logloss: 0.434527\n",
      "[70]\ttraining's binary_logloss: 0.285597\tvalid_1's binary_logloss: 0.434932\n",
      "Early stopping, best iteration is:\n",
      "[66]\ttraining's binary_logloss: 0.293072\tvalid_1's binary_logloss: 0.433251\n"
     ]
    },
    {
     "name": "stderr",
     "output_type": "stream",
     "text": [
      "[I 2021-12-28 07:18:46,867] Finished trial#26 resulted in value: 0.4332512137886331. Current best value is 0.4332512137886331 with parameters: {'max_bin': 427, 'num_leaves': 79}.\n",
      "/opt/conda/lib/python3.6/site-packages/lightgbm/basic.py:1205: UserWarning:\n",
      "\n",
      "Using categorical_feature in Dataset.\n",
      "\n",
      "/opt/conda/lib/python3.6/site-packages/lightgbm/basic.py:762: UserWarning:\n",
      "\n",
      "categorical_feature in param dict is overridden.\n",
      "\n"
     ]
    },
    {
     "name": "stdout",
     "output_type": "stream",
     "text": [
      "Training until validation scores don't improve for 10 rounds.\n",
      "[10]\ttraining's binary_logloss: 0.505699\tvalid_1's binary_logloss: 0.532106\n",
      "[20]\ttraining's binary_logloss: 0.427825\tvalid_1's binary_logloss: 0.482279\n",
      "[30]\ttraining's binary_logloss: 0.377242\tvalid_1's binary_logloss: 0.456641\n",
      "[40]\ttraining's binary_logloss: 0.345424\tvalid_1's binary_logloss: 0.447083\n",
      "[50]\ttraining's binary_logloss: 0.323113\tvalid_1's binary_logloss: 0.440407\n",
      "[60]\ttraining's binary_logloss: 0.302727\tvalid_1's binary_logloss: 0.434527\n",
      "[70]\ttraining's binary_logloss: 0.285597\tvalid_1's binary_logloss: 0.434932\n",
      "Early stopping, best iteration is:\n",
      "[66]\ttraining's binary_logloss: 0.293072\tvalid_1's binary_logloss: 0.433251\n"
     ]
    },
    {
     "name": "stderr",
     "output_type": "stream",
     "text": [
      "[I 2021-12-28 07:18:47,124] Finished trial#27 resulted in value: 0.4332512137886331. Current best value is 0.4332512137886331 with parameters: {'max_bin': 427, 'num_leaves': 79}.\n",
      "/opt/conda/lib/python3.6/site-packages/lightgbm/basic.py:1205: UserWarning:\n",
      "\n",
      "Using categorical_feature in Dataset.\n",
      "\n",
      "/opt/conda/lib/python3.6/site-packages/lightgbm/basic.py:762: UserWarning:\n",
      "\n",
      "categorical_feature in param dict is overridden.\n",
      "\n"
     ]
    },
    {
     "name": "stdout",
     "output_type": "stream",
     "text": [
      "Training until validation scores don't improve for 10 rounds.\n",
      "[10]\ttraining's binary_logloss: 0.505699\tvalid_1's binary_logloss: 0.532106\n",
      "[20]\ttraining's binary_logloss: 0.427825\tvalid_1's binary_logloss: 0.482279\n",
      "[30]\ttraining's binary_logloss: 0.377242\tvalid_1's binary_logloss: 0.456641\n",
      "[40]\ttraining's binary_logloss: 0.345424\tvalid_1's binary_logloss: 0.447083\n",
      "[50]\ttraining's binary_logloss: 0.323113\tvalid_1's binary_logloss: 0.440407\n",
      "[60]\ttraining's binary_logloss: 0.302727\tvalid_1's binary_logloss: 0.434527\n",
      "[70]\ttraining's binary_logloss: 0.285597\tvalid_1's binary_logloss: 0.434932\n",
      "Early stopping, best iteration is:\n",
      "[66]\ttraining's binary_logloss: 0.293072\tvalid_1's binary_logloss: 0.433251\n"
     ]
    },
    {
     "name": "stderr",
     "output_type": "stream",
     "text": [
      "[I 2021-12-28 07:18:47,388] Finished trial#28 resulted in value: 0.4332512137886331. Current best value is 0.4332512137886331 with parameters: {'max_bin': 427, 'num_leaves': 79}.\n",
      "/opt/conda/lib/python3.6/site-packages/lightgbm/basic.py:1205: UserWarning:\n",
      "\n",
      "Using categorical_feature in Dataset.\n",
      "\n",
      "/opt/conda/lib/python3.6/site-packages/lightgbm/basic.py:762: UserWarning:\n",
      "\n",
      "categorical_feature in param dict is overridden.\n",
      "\n"
     ]
    },
    {
     "name": "stdout",
     "output_type": "stream",
     "text": [
      "Training until validation scores don't improve for 10 rounds.\n",
      "[10]\ttraining's binary_logloss: 0.505699\tvalid_1's binary_logloss: 0.532106\n",
      "[20]\ttraining's binary_logloss: 0.427825\tvalid_1's binary_logloss: 0.482279\n",
      "[30]\ttraining's binary_logloss: 0.377242\tvalid_1's binary_logloss: 0.456641\n",
      "[40]\ttraining's binary_logloss: 0.345424\tvalid_1's binary_logloss: 0.447083\n",
      "[50]\ttraining's binary_logloss: 0.323113\tvalid_1's binary_logloss: 0.440407\n",
      "[60]\ttraining's binary_logloss: 0.302727\tvalid_1's binary_logloss: 0.434527\n",
      "[70]\ttraining's binary_logloss: 0.285597\tvalid_1's binary_logloss: 0.434932\n",
      "Early stopping, best iteration is:\n",
      "[66]\ttraining's binary_logloss: 0.293072\tvalid_1's binary_logloss: 0.433251\n"
     ]
    },
    {
     "name": "stderr",
     "output_type": "stream",
     "text": [
      "[I 2021-12-28 07:18:47,647] Finished trial#29 resulted in value: 0.4332512137886331. Current best value is 0.4332512137886331 with parameters: {'max_bin': 427, 'num_leaves': 79}.\n",
      "/opt/conda/lib/python3.6/site-packages/lightgbm/basic.py:1205: UserWarning:\n",
      "\n",
      "Using categorical_feature in Dataset.\n",
      "\n",
      "/opt/conda/lib/python3.6/site-packages/lightgbm/basic.py:762: UserWarning:\n",
      "\n",
      "categorical_feature in param dict is overridden.\n",
      "\n"
     ]
    },
    {
     "name": "stdout",
     "output_type": "stream",
     "text": [
      "Training until validation scores don't improve for 10 rounds.\n",
      "[10]\ttraining's binary_logloss: 0.505699\tvalid_1's binary_logloss: 0.532106\n",
      "[20]\ttraining's binary_logloss: 0.427825\tvalid_1's binary_logloss: 0.482279\n",
      "[30]\ttraining's binary_logloss: 0.377242\tvalid_1's binary_logloss: 0.456641\n",
      "[40]\ttraining's binary_logloss: 0.345424\tvalid_1's binary_logloss: 0.447083\n",
      "[50]\ttraining's binary_logloss: 0.323113\tvalid_1's binary_logloss: 0.440407\n",
      "[60]\ttraining's binary_logloss: 0.302727\tvalid_1's binary_logloss: 0.434527\n",
      "[70]\ttraining's binary_logloss: 0.285597\tvalid_1's binary_logloss: 0.434932\n",
      "Early stopping, best iteration is:\n",
      "[66]\ttraining's binary_logloss: 0.293072\tvalid_1's binary_logloss: 0.433251\n"
     ]
    },
    {
     "name": "stderr",
     "output_type": "stream",
     "text": [
      "[I 2021-12-28 07:18:47,903] Finished trial#30 resulted in value: 0.4332512137886331. Current best value is 0.4332512137886331 with parameters: {'max_bin': 427, 'num_leaves': 79}.\n",
      "/opt/conda/lib/python3.6/site-packages/lightgbm/basic.py:1205: UserWarning:\n",
      "\n",
      "Using categorical_feature in Dataset.\n",
      "\n",
      "/opt/conda/lib/python3.6/site-packages/lightgbm/basic.py:762: UserWarning:\n",
      "\n",
      "categorical_feature in param dict is overridden.\n",
      "\n"
     ]
    },
    {
     "name": "stdout",
     "output_type": "stream",
     "text": [
      "Training until validation scores don't improve for 10 rounds.\n",
      "[10]\ttraining's binary_logloss: 0.505699\tvalid_1's binary_logloss: 0.532106\n",
      "[20]\ttraining's binary_logloss: 0.427825\tvalid_1's binary_logloss: 0.482279\n",
      "[30]\ttraining's binary_logloss: 0.377242\tvalid_1's binary_logloss: 0.456641\n",
      "[40]\ttraining's binary_logloss: 0.345424\tvalid_1's binary_logloss: 0.447083\n",
      "[50]\ttraining's binary_logloss: 0.323113\tvalid_1's binary_logloss: 0.440407\n",
      "[60]\ttraining's binary_logloss: 0.302727\tvalid_1's binary_logloss: 0.434527\n",
      "[70]\ttraining's binary_logloss: 0.285597\tvalid_1's binary_logloss: 0.434932\n",
      "Early stopping, best iteration is:\n",
      "[66]\ttraining's binary_logloss: 0.293072\tvalid_1's binary_logloss: 0.433251\n"
     ]
    },
    {
     "name": "stderr",
     "output_type": "stream",
     "text": [
      "[I 2021-12-28 07:18:48,161] Finished trial#31 resulted in value: 0.4332512137886331. Current best value is 0.4332512137886331 with parameters: {'max_bin': 427, 'num_leaves': 79}.\n",
      "/opt/conda/lib/python3.6/site-packages/lightgbm/basic.py:1205: UserWarning:\n",
      "\n",
      "Using categorical_feature in Dataset.\n",
      "\n",
      "/opt/conda/lib/python3.6/site-packages/lightgbm/basic.py:762: UserWarning:\n",
      "\n",
      "categorical_feature in param dict is overridden.\n",
      "\n"
     ]
    },
    {
     "name": "stdout",
     "output_type": "stream",
     "text": [
      "Training until validation scores don't improve for 10 rounds.\n",
      "[10]\ttraining's binary_logloss: 0.505699\tvalid_1's binary_logloss: 0.532106\n",
      "[20]\ttraining's binary_logloss: 0.427825\tvalid_1's binary_logloss: 0.482279\n",
      "[30]\ttraining's binary_logloss: 0.377242\tvalid_1's binary_logloss: 0.456641\n",
      "[40]\ttraining's binary_logloss: 0.345424\tvalid_1's binary_logloss: 0.447083\n",
      "[50]\ttraining's binary_logloss: 0.323113\tvalid_1's binary_logloss: 0.440407\n",
      "[60]\ttraining's binary_logloss: 0.302727\tvalid_1's binary_logloss: 0.434527\n",
      "[70]\ttraining's binary_logloss: 0.285597\tvalid_1's binary_logloss: 0.434932\n",
      "Early stopping, best iteration is:\n",
      "[66]\ttraining's binary_logloss: 0.293072\tvalid_1's binary_logloss: 0.433251\n"
     ]
    },
    {
     "name": "stderr",
     "output_type": "stream",
     "text": [
      "[I 2021-12-28 07:18:48,418] Finished trial#32 resulted in value: 0.4332512137886331. Current best value is 0.4332512137886331 with parameters: {'max_bin': 427, 'num_leaves': 79}.\n",
      "/opt/conda/lib/python3.6/site-packages/lightgbm/basic.py:1205: UserWarning:\n",
      "\n",
      "Using categorical_feature in Dataset.\n",
      "\n",
      "/opt/conda/lib/python3.6/site-packages/lightgbm/basic.py:762: UserWarning:\n",
      "\n",
      "categorical_feature in param dict is overridden.\n",
      "\n"
     ]
    },
    {
     "name": "stdout",
     "output_type": "stream",
     "text": [
      "Training until validation scores don't improve for 10 rounds.\n",
      "[10]\ttraining's binary_logloss: 0.505699\tvalid_1's binary_logloss: 0.532106\n",
      "[20]\ttraining's binary_logloss: 0.427825\tvalid_1's binary_logloss: 0.482279\n",
      "[30]\ttraining's binary_logloss: 0.377242\tvalid_1's binary_logloss: 0.456641\n",
      "[40]\ttraining's binary_logloss: 0.345424\tvalid_1's binary_logloss: 0.447083\n",
      "[50]\ttraining's binary_logloss: 0.323113\tvalid_1's binary_logloss: 0.440407\n",
      "[60]\ttraining's binary_logloss: 0.302727\tvalid_1's binary_logloss: 0.434527\n",
      "[70]\ttraining's binary_logloss: 0.285597\tvalid_1's binary_logloss: 0.434932\n",
      "Early stopping, best iteration is:\n",
      "[66]\ttraining's binary_logloss: 0.293072\tvalid_1's binary_logloss: 0.433251\n"
     ]
    },
    {
     "name": "stderr",
     "output_type": "stream",
     "text": [
      "[I 2021-12-28 07:18:48,680] Finished trial#33 resulted in value: 0.4332512137886331. Current best value is 0.4332512137886331 with parameters: {'max_bin': 427, 'num_leaves': 79}.\n",
      "/opt/conda/lib/python3.6/site-packages/lightgbm/basic.py:1205: UserWarning:\n",
      "\n",
      "Using categorical_feature in Dataset.\n",
      "\n",
      "/opt/conda/lib/python3.6/site-packages/lightgbm/basic.py:762: UserWarning:\n",
      "\n",
      "categorical_feature in param dict is overridden.\n",
      "\n"
     ]
    },
    {
     "name": "stdout",
     "output_type": "stream",
     "text": [
      "Training until validation scores don't improve for 10 rounds.\n",
      "[10]\ttraining's binary_logloss: 0.505699\tvalid_1's binary_logloss: 0.532106\n",
      "[20]\ttraining's binary_logloss: 0.427825\tvalid_1's binary_logloss: 0.482279\n",
      "[30]\ttraining's binary_logloss: 0.377242\tvalid_1's binary_logloss: 0.456641\n",
      "[40]\ttraining's binary_logloss: 0.345424\tvalid_1's binary_logloss: 0.447083\n",
      "[50]\ttraining's binary_logloss: 0.323113\tvalid_1's binary_logloss: 0.440407\n",
      "[60]\ttraining's binary_logloss: 0.302727\tvalid_1's binary_logloss: 0.434527\n",
      "[70]\ttraining's binary_logloss: 0.285597\tvalid_1's binary_logloss: 0.434932\n",
      "Early stopping, best iteration is:\n",
      "[66]\ttraining's binary_logloss: 0.293072\tvalid_1's binary_logloss: 0.433251\n"
     ]
    },
    {
     "name": "stderr",
     "output_type": "stream",
     "text": [
      "[I 2021-12-28 07:18:48,935] Finished trial#34 resulted in value: 0.4332512137886331. Current best value is 0.4332512137886331 with parameters: {'max_bin': 427, 'num_leaves': 79}.\n",
      "/opt/conda/lib/python3.6/site-packages/lightgbm/basic.py:1205: UserWarning:\n",
      "\n",
      "Using categorical_feature in Dataset.\n",
      "\n",
      "/opt/conda/lib/python3.6/site-packages/lightgbm/basic.py:762: UserWarning:\n",
      "\n",
      "categorical_feature in param dict is overridden.\n",
      "\n"
     ]
    },
    {
     "name": "stdout",
     "output_type": "stream",
     "text": [
      "Training until validation scores don't improve for 10 rounds.\n",
      "[10]\ttraining's binary_logloss: 0.505699\tvalid_1's binary_logloss: 0.532106\n",
      "[20]\ttraining's binary_logloss: 0.427825\tvalid_1's binary_logloss: 0.482279\n",
      "[30]\ttraining's binary_logloss: 0.377242\tvalid_1's binary_logloss: 0.456641\n",
      "[40]\ttraining's binary_logloss: 0.345424\tvalid_1's binary_logloss: 0.447083\n",
      "[50]\ttraining's binary_logloss: 0.323113\tvalid_1's binary_logloss: 0.440407\n",
      "[60]\ttraining's binary_logloss: 0.302727\tvalid_1's binary_logloss: 0.434527\n",
      "[70]\ttraining's binary_logloss: 0.285597\tvalid_1's binary_logloss: 0.434932\n",
      "Early stopping, best iteration is:\n",
      "[66]\ttraining's binary_logloss: 0.293072\tvalid_1's binary_logloss: 0.433251\n"
     ]
    },
    {
     "name": "stderr",
     "output_type": "stream",
     "text": [
      "[I 2021-12-28 07:18:49,195] Finished trial#35 resulted in value: 0.4332512137886331. Current best value is 0.4332512137886331 with parameters: {'max_bin': 427, 'num_leaves': 79}.\n",
      "/opt/conda/lib/python3.6/site-packages/lightgbm/basic.py:1205: UserWarning:\n",
      "\n",
      "Using categorical_feature in Dataset.\n",
      "\n",
      "/opt/conda/lib/python3.6/site-packages/lightgbm/basic.py:762: UserWarning:\n",
      "\n",
      "categorical_feature in param dict is overridden.\n",
      "\n"
     ]
    },
    {
     "name": "stdout",
     "output_type": "stream",
     "text": [
      "Training until validation scores don't improve for 10 rounds.\n",
      "[10]\ttraining's binary_logloss: 0.505699\tvalid_1's binary_logloss: 0.532106\n",
      "[20]\ttraining's binary_logloss: 0.427825\tvalid_1's binary_logloss: 0.482279\n",
      "[30]\ttraining's binary_logloss: 0.377242\tvalid_1's binary_logloss: 0.456641\n",
      "[40]\ttraining's binary_logloss: 0.345424\tvalid_1's binary_logloss: 0.447083\n",
      "[50]\ttraining's binary_logloss: 0.323113\tvalid_1's binary_logloss: 0.440407\n",
      "[60]\ttraining's binary_logloss: 0.302727\tvalid_1's binary_logloss: 0.434527\n",
      "[70]\ttraining's binary_logloss: 0.285597\tvalid_1's binary_logloss: 0.434932\n",
      "Early stopping, best iteration is:\n",
      "[66]\ttraining's binary_logloss: 0.293072\tvalid_1's binary_logloss: 0.433251\n"
     ]
    },
    {
     "name": "stderr",
     "output_type": "stream",
     "text": [
      "[I 2021-12-28 07:18:49,457] Finished trial#36 resulted in value: 0.4332512137886331. Current best value is 0.4332512137886331 with parameters: {'max_bin': 427, 'num_leaves': 79}.\n",
      "/opt/conda/lib/python3.6/site-packages/lightgbm/basic.py:1205: UserWarning:\n",
      "\n",
      "Using categorical_feature in Dataset.\n",
      "\n",
      "/opt/conda/lib/python3.6/site-packages/lightgbm/basic.py:762: UserWarning:\n",
      "\n",
      "categorical_feature in param dict is overridden.\n",
      "\n"
     ]
    },
    {
     "name": "stdout",
     "output_type": "stream",
     "text": [
      "Training until validation scores don't improve for 10 rounds.\n",
      "[10]\ttraining's binary_logloss: 0.505699\tvalid_1's binary_logloss: 0.532106\n",
      "[20]\ttraining's binary_logloss: 0.427825\tvalid_1's binary_logloss: 0.482279\n",
      "[30]\ttraining's binary_logloss: 0.377242\tvalid_1's binary_logloss: 0.456641\n",
      "[40]\ttraining's binary_logloss: 0.345424\tvalid_1's binary_logloss: 0.447083\n",
      "[50]\ttraining's binary_logloss: 0.323113\tvalid_1's binary_logloss: 0.440407\n",
      "[60]\ttraining's binary_logloss: 0.302727\tvalid_1's binary_logloss: 0.434527\n",
      "[70]\ttraining's binary_logloss: 0.285597\tvalid_1's binary_logloss: 0.434932\n",
      "Early stopping, best iteration is:\n",
      "[66]\ttraining's binary_logloss: 0.293072\tvalid_1's binary_logloss: 0.433251\n"
     ]
    },
    {
     "name": "stderr",
     "output_type": "stream",
     "text": [
      "[I 2021-12-28 07:18:49,712] Finished trial#37 resulted in value: 0.4332512137886331. Current best value is 0.4332512137886331 with parameters: {'max_bin': 427, 'num_leaves': 79}.\n",
      "/opt/conda/lib/python3.6/site-packages/lightgbm/basic.py:1205: UserWarning:\n",
      "\n",
      "Using categorical_feature in Dataset.\n",
      "\n",
      "/opt/conda/lib/python3.6/site-packages/lightgbm/basic.py:762: UserWarning:\n",
      "\n",
      "categorical_feature in param dict is overridden.\n",
      "\n"
     ]
    },
    {
     "name": "stdout",
     "output_type": "stream",
     "text": [
      "Training until validation scores don't improve for 10 rounds.\n",
      "[10]\ttraining's binary_logloss: 0.505699\tvalid_1's binary_logloss: 0.532106\n",
      "[20]\ttraining's binary_logloss: 0.427825\tvalid_1's binary_logloss: 0.482279\n",
      "[30]\ttraining's binary_logloss: 0.377242\tvalid_1's binary_logloss: 0.456641\n",
      "[40]\ttraining's binary_logloss: 0.345424\tvalid_1's binary_logloss: 0.447083\n",
      "[50]\ttraining's binary_logloss: 0.323113\tvalid_1's binary_logloss: 0.440407\n",
      "[60]\ttraining's binary_logloss: 0.302727\tvalid_1's binary_logloss: 0.434527\n",
      "[70]\ttraining's binary_logloss: 0.285597\tvalid_1's binary_logloss: 0.434932\n",
      "Early stopping, best iteration is:\n",
      "[66]\ttraining's binary_logloss: 0.293072\tvalid_1's binary_logloss: 0.433251\n"
     ]
    },
    {
     "name": "stderr",
     "output_type": "stream",
     "text": [
      "[I 2021-12-28 07:18:49,970] Finished trial#38 resulted in value: 0.4332512137886331. Current best value is 0.4332512137886331 with parameters: {'max_bin': 427, 'num_leaves': 79}.\n",
      "/opt/conda/lib/python3.6/site-packages/lightgbm/basic.py:1205: UserWarning:\n",
      "\n",
      "Using categorical_feature in Dataset.\n",
      "\n",
      "/opt/conda/lib/python3.6/site-packages/lightgbm/basic.py:762: UserWarning:\n",
      "\n",
      "categorical_feature in param dict is overridden.\n",
      "\n"
     ]
    },
    {
     "name": "stdout",
     "output_type": "stream",
     "text": [
      "Training until validation scores don't improve for 10 rounds.\n",
      "[10]\ttraining's binary_logloss: 0.505699\tvalid_1's binary_logloss: 0.532106\n",
      "[20]\ttraining's binary_logloss: 0.427825\tvalid_1's binary_logloss: 0.482279\n",
      "[30]\ttraining's binary_logloss: 0.377242\tvalid_1's binary_logloss: 0.456641\n",
      "[40]\ttraining's binary_logloss: 0.345424\tvalid_1's binary_logloss: 0.447083\n",
      "[50]\ttraining's binary_logloss: 0.323113\tvalid_1's binary_logloss: 0.440407\n",
      "[60]\ttraining's binary_logloss: 0.302727\tvalid_1's binary_logloss: 0.434527\n",
      "[70]\ttraining's binary_logloss: 0.285597\tvalid_1's binary_logloss: 0.434932\n",
      "Early stopping, best iteration is:\n",
      "[66]\ttraining's binary_logloss: 0.293072\tvalid_1's binary_logloss: 0.433251\n"
     ]
    },
    {
     "name": "stderr",
     "output_type": "stream",
     "text": [
      "[I 2021-12-28 07:18:50,231] Finished trial#39 resulted in value: 0.4332512137886331. Current best value is 0.4332512137886331 with parameters: {'max_bin': 427, 'num_leaves': 79}.\n"
     ]
    }
   ],
   "source": [
    "study = optuna.create_study(sampler=optuna.samplers.RandomSampler(seed=0))\n",
    "study.optimize(objective,n_trials=40)"
   ]
  },
  {
   "cell_type": "code",
   "execution_count": 27,
   "metadata": {
    "execution": {
     "iopub.execute_input": "2021-12-28T06:48:28.91719Z",
     "iopub.status.busy": "2021-12-28T06:48:28.916821Z",
     "iopub.status.idle": "2021-12-28T06:48:28.927533Z",
     "shell.execute_reply": "2021-12-28T06:48:28.926447Z",
     "shell.execute_reply.started": "2021-12-28T06:48:28.917137Z"
    }
   },
   "outputs": [
    {
     "data": {
      "text/plain": [
       "{'max_bin': 427, 'num_leaves': 79}"
      ]
     },
     "execution_count": 27,
     "metadata": {},
     "output_type": "execute_result"
    }
   ],
   "source": [
    "study.best_params"
   ]
  },
  {
   "cell_type": "code",
   "execution_count": 28,
   "metadata": {
    "execution": {
     "iopub.execute_input": "2021-12-28T07:15:10.311941Z",
     "iopub.status.busy": "2021-12-28T07:15:10.311517Z",
     "iopub.status.idle": "2021-12-28T07:15:11.169951Z",
     "shell.execute_reply": "2021-12-28T07:15:11.169182Z",
     "shell.execute_reply.started": "2021-12-28T07:15:10.311844Z"
    }
   },
   "outputs": [
    {
     "name": "stderr",
     "output_type": "stream",
     "text": [
      "/opt/conda/lib/python3.6/site-packages/pandas/core/indexing.py:1418: FutureWarning:\n",
      "\n",
      "\n",
      "Passing list-likes to .loc or [] with any missing label will raise\n",
      "KeyError in the future, you can use .reindex() as an alternative.\n",
      "\n",
      "See the documentation here:\n",
      "https://pandas.pydata.org/pandas-docs/stable/user_guide/indexing.html#deprecate-loc-reindex-listlike\n",
      "\n",
      "/opt/conda/lib/python3.6/site-packages/pandas/core/series.py:1143: FutureWarning:\n",
      "\n",
      "\n",
      "Passing list-likes to .loc or [] with any missing label will raise\n",
      "KeyError in the future, you can use .reindex() as an alternative.\n",
      "\n",
      "See the documentation here:\n",
      "https://pandas.pydata.org/pandas-docs/stable/user_guide/indexing.html#deprecate-loc-reindex-listlike\n",
      "\n",
      "/opt/conda/lib/python3.6/site-packages/lightgbm/basic.py:1205: UserWarning:\n",
      "\n",
      "Using categorical_feature in Dataset.\n",
      "\n",
      "/opt/conda/lib/python3.6/site-packages/lightgbm/basic.py:762: UserWarning:\n",
      "\n",
      "categorical_feature in param dict is overridden.\n",
      "\n"
     ]
    },
    {
     "name": "stdout",
     "output_type": "stream",
     "text": [
      "Training until validation scores don't improve for 10 rounds.\n",
      "[10]\ttraining's binary_logloss: 0.899674\tvalid_1's binary_logloss: 0.970608\n",
      "Early stopping, best iteration is:\n",
      "[1]\ttraining's binary_logloss: 0.878428\tvalid_1's binary_logloss: 0.907811\n",
      "Training until validation scores don't improve for 10 rounds.\n",
      "[10]\ttraining's binary_logloss: 0.871654\tvalid_1's binary_logloss: 0.91006\n",
      "Early stopping, best iteration is:\n",
      "[1]\ttraining's binary_logloss: 0.856485\tvalid_1's binary_logloss: 0.809217\n",
      "Training until validation scores don't improve for 10 rounds.\n",
      "[10]\ttraining's binary_logloss: 0.925048\tvalid_1's binary_logloss: 0.848814\n",
      "Early stopping, best iteration is:\n",
      "[3]\ttraining's binary_logloss: 0.885902\tvalid_1's binary_logloss: 0.826968\n",
      "Training until validation scores don't improve for 10 rounds.\n",
      "[10]\ttraining's binary_logloss: 0.917393\tvalid_1's binary_logloss: 0.925838\n",
      "Early stopping, best iteration is:\n",
      "[3]\ttraining's binary_logloss: 0.88214\tvalid_1's binary_logloss: 0.901569\n",
      "Training until validation scores don't improve for 10 rounds.\n",
      "[10]\ttraining's binary_logloss: 0.919186\tvalid_1's binary_logloss: 0.961609\n",
      "Early stopping, best iteration is:\n",
      "[3]\ttraining's binary_logloss: 0.885415\tvalid_1's binary_logloss: 0.944118\n"
     ]
    }
   ],
   "source": [
    "from sklearn.model_selection import KFold\n",
    "\n",
    "\n",
    "y_preds = []\n",
    "models = []\n",
    "oof_train = np.zeros((len(X_train),))\n",
    "cv = KFold(n_splits=5, shuffle=True, random_state=0)\n",
    "\n",
    "categorical_features = ['Embarked', 'Pclass', 'Sex']\n",
    "\n",
    "params = {\n",
    "    'objective': 'binary',\n",
    "    'max_bin': 300,\n",
    "    'learning_rate': 0.05,\n",
    "    'num_leaves': 40\n",
    "}\n",
    "\n",
    "for fold_id, (train_index, valid_index) in enumerate(cv.split(X_train)):\n",
    "    X_tr = X_train.loc[train_index, :]\n",
    "    X_val = X_train.loc[valid_index, :]\n",
    "    y_tr = y_train[train_index]\n",
    "    y_val = y_train[valid_index]\n",
    "\n",
    "    lgb_train = lgb.Dataset(X_tr, y_tr, categorical_feature=categorical_features)\n",
    "    lgb_eval = lgb.Dataset(X_val, y_val, reference=lgb_train, categorical_feature=categorical_features)\n",
    "\n",
    "    model = lgb.train(\n",
    "        params, lgb_train,\n",
    "        valid_sets=[lgb_train, lgb_eval],\n",
    "        verbose_eval=10,\n",
    "        num_boost_round=1000,\n",
    "        early_stopping_rounds=10\n",
    "    )\n",
    "\n",
    "    oof_train[valid_index] = model.predict(X_val, num_iteration=model.best_iteration)\n",
    "    y_pred = model.predict(X_test, num_iteration=model.best_iteration)\n",
    "\n",
    "    y_preds.append(y_pred)\n",
    "    models.append(model)"
   ]
  },
  {
   "cell_type": "code",
   "execution_count": 29,
   "metadata": {
    "execution": {
     "iopub.execute_input": "2021-12-28T07:15:18.502740Z",
     "iopub.status.busy": "2021-12-28T07:15:18.502133Z",
     "iopub.status.idle": "2021-12-28T07:15:18.531652Z",
     "shell.execute_reply": "2021-12-28T07:15:18.526083Z",
     "shell.execute_reply.started": "2021-12-28T07:15:18.502673Z"
    }
   },
   "outputs": [
    {
     "name": "stdout",
     "output_type": "stream",
     "text": [
      "===CV scores===\n",
      "[0.9078106906154864, 0.8092165034676551, 0.8269683440594716, 0.9015693173622176, 0.9441181898191693]\n",
      "0.8779366090648001\n"
     ]
    }
   ],
   "source": [
    "pd.DataFrame(oof_train).to_csv('oof_train_kfold.csv', index=False)\n",
    "\n",
    "scores = [\n",
    "    m.best_score['valid_1']['binary_logloss'] for m in models\n",
    "]\n",
    "score = sum(scores) / len(scores)\n",
    "print('===CV scores===')\n",
    "print(scores)\n",
    "print(score)"
   ]
  },
  {
   "cell_type": "code",
   "execution_count": 30,
   "metadata": {
    "execution": {
     "iopub.execute_input": "2021-12-28T07:15:23.533344Z",
     "iopub.status.busy": "2021-12-28T07:15:23.532966Z",
     "iopub.status.idle": "2021-12-28T07:15:23.543019Z",
     "shell.execute_reply": "2021-12-28T07:15:23.541787Z",
     "shell.execute_reply.started": "2021-12-28T07:15:23.533282Z"
    }
   },
   "outputs": [
    {
     "data": {
      "text/plain": [
       "0.6163723916532905"
      ]
     },
     "execution_count": 30,
     "metadata": {},
     "output_type": "execute_result"
    }
   ],
   "source": [
    "from sklearn.metrics import accuracy_score\n",
    "\n",
    "\n",
    "y_pred_oof = (oof_train > 0.5).astype(int)\n",
    "accuracy_score(y_train, y_pred_oof)"
   ]
  },
  {
   "cell_type": "code",
   "execution_count": 31,
   "metadata": {
    "execution": {
     "iopub.execute_input": "2021-12-28T07:16:39.929311Z",
     "iopub.status.busy": "2021-12-28T07:16:39.928963Z",
     "iopub.status.idle": "2021-12-28T07:16:39.936442Z",
     "shell.execute_reply": "2021-12-28T07:16:39.935589Z",
     "shell.execute_reply.started": "2021-12-28T07:16:39.929250Z"
    }
   },
   "outputs": [
    {
     "data": {
      "text/plain": [
       "5"
      ]
     },
     "execution_count": 31,
     "metadata": {},
     "output_type": "execute_result"
    }
   ],
   "source": [
    "len(y_preds)"
   ]
  },
  {
   "cell_type": "code",
   "execution_count": 32,
   "metadata": {
    "execution": {
     "iopub.execute_input": "2021-12-28T07:16:42.832094Z",
     "iopub.status.busy": "2021-12-28T07:16:42.831567Z",
     "iopub.status.idle": "2021-12-28T07:16:42.838726Z",
     "shell.execute_reply": "2021-12-28T07:16:42.837803Z",
     "shell.execute_reply.started": "2021-12-28T07:16:42.832049Z"
    }
   },
   "outputs": [
    {
     "data": {
      "text/plain": [
       "array([0.25392875, 0.29242506, 0.25544398, 0.26402014, 0.27039456,\n",
       "       0.27414355, 0.29242506, 0.25544398, 0.29242506, 0.25798252])"
      ]
     },
     "execution_count": 32,
     "metadata": {},
     "output_type": "execute_result"
    }
   ],
   "source": [
    "y_preds[0][:10]"
   ]
  },
  {
   "cell_type": "code",
   "execution_count": 33,
   "metadata": {
    "execution": {
     "iopub.execute_input": "2021-12-28T07:16:50.303540Z",
     "iopub.status.busy": "2021-12-28T07:16:50.303168Z",
     "iopub.status.idle": "2021-12-28T07:16:50.310983Z",
     "shell.execute_reply": "2021-12-28T07:16:50.310199Z",
     "shell.execute_reply.started": "2021-12-28T07:16:50.303485Z"
    }
   },
   "outputs": [
    {
     "data": {
      "text/plain": [
       "array([0, 0, 0, 0, 0, 0, 0, 0, 0, 0])"
      ]
     },
     "execution_count": 33,
     "metadata": {},
     "output_type": "execute_result"
    }
   ],
   "source": [
    "y_sub = sum(y_preds) / len(y_preds)\n",
    "y_sub = (y_sub > 0.5).astype(int)\n",
    "y_sub[:10]"
   ]
  },
  {
   "cell_type": "code",
   "execution_count": 34,
   "metadata": {
    "execution": {
     "iopub.execute_input": "2021-12-28T07:13:55.240754Z",
     "iopub.status.busy": "2021-12-28T07:13:55.240129Z",
     "iopub.status.idle": "2021-12-28T07:13:55.254070Z",
     "shell.execute_reply": "2021-12-28T07:13:55.253311Z",
     "shell.execute_reply.started": "2021-12-28T07:13:55.240704Z"
    }
   },
   "outputs": [
    {
     "data": {
      "text/html": [
       "<div>\n",
       "<style scoped>\n",
       "    .dataframe tbody tr th:only-of-type {\n",
       "        vertical-align: middle;\n",
       "    }\n",
       "\n",
       "    .dataframe tbody tr th {\n",
       "        vertical-align: top;\n",
       "    }\n",
       "\n",
       "    .dataframe thead th {\n",
       "        text-align: right;\n",
       "    }\n",
       "</style>\n",
       "<table border=\"1\" class=\"dataframe\">\n",
       "  <thead>\n",
       "    <tr style=\"text-align: right;\">\n",
       "      <th></th>\n",
       "      <th>PassengerId</th>\n",
       "      <th>Survived</th>\n",
       "    </tr>\n",
       "  </thead>\n",
       "  <tbody>\n",
       "    <tr>\n",
       "      <td>0</td>\n",
       "      <td>892</td>\n",
       "      <td>0</td>\n",
       "    </tr>\n",
       "    <tr>\n",
       "      <td>1</td>\n",
       "      <td>893</td>\n",
       "      <td>0</td>\n",
       "    </tr>\n",
       "    <tr>\n",
       "      <td>2</td>\n",
       "      <td>894</td>\n",
       "      <td>0</td>\n",
       "    </tr>\n",
       "    <tr>\n",
       "      <td>3</td>\n",
       "      <td>895</td>\n",
       "      <td>0</td>\n",
       "    </tr>\n",
       "    <tr>\n",
       "      <td>4</td>\n",
       "      <td>896</td>\n",
       "      <td>0</td>\n",
       "    </tr>\n",
       "  </tbody>\n",
       "</table>\n",
       "</div>"
      ],
      "text/plain": [
       "   PassengerId  Survived\n",
       "0          892         0\n",
       "1          893         0\n",
       "2          894         0\n",
       "3          895         0\n",
       "4          896         0"
      ]
     },
     "execution_count": 34,
     "metadata": {},
     "output_type": "execute_result"
    }
   ],
   "source": [
    "sub['Survived'] = y_sub\n",
    "sub.to_csv(\"submission_lightgbm_kfold.csv\", index=False)\n",
    "\n",
    "sub.head()"
   ]
  },
  {
   "cell_type": "code",
   "execution_count": 35,
   "metadata": {
    "execution": {
     "iopub.execute_input": "2021-12-28T07:17:03.121329Z",
     "iopub.status.busy": "2021-12-28T07:17:03.120769Z",
     "iopub.status.idle": "2021-12-28T07:17:03.182967Z",
     "shell.execute_reply": "2021-12-28T07:17:03.182069Z",
     "shell.execute_reply.started": "2021-12-28T07:17:03.121282Z"
    }
   },
   "outputs": [
    {
     "name": "stdout",
     "output_type": "stream",
     "text": [
      "fold: 0\n",
      "y_tr y==1 rate: nan\n",
      "y_val y==1 rate: nan\n",
      "fold: 1\n",
      "y_tr y==1 rate: nan\n",
      "y_val y==1 rate: nan\n",
      "fold: 2\n",
      "y_tr y==1 rate: nan\n",
      "y_val y==1 rate: nan\n",
      "fold: 3\n",
      "y_tr y==1 rate: nan\n",
      "y_val y==1 rate: nan\n",
      "fold: 4\n",
      "y_tr y==1 rate: nan\n",
      "y_val y==1 rate: nan\n"
     ]
    }
   ],
   "source": [
    "from sklearn.model_selection import KFold\n",
    "\n",
    "\n",
    "cv = KFold(n_splits=5, shuffle=True, random_state=0)\n",
    "for fold_id, (train_index, valid_index) in enumerate(cv.split(X_train)):\n",
    "    X_tr = X_train.loc[train_index, :]\n",
    "    X_val = X_train.loc[valid_index, :]\n",
    "    y_tr = y_train[train_index]\n",
    "    y_val = y_train[valid_index]\n",
    "\n",
    "    print(f'fold: {fold_id}')\n",
    "    print(f'y_tr y==1 rate: {sum(y_tr)/len(y_tr)}')\n",
    "    print(f'y_val y==1 rate: {sum(y_val)/len(y_val)}')"
   ]
  },
  {
   "cell_type": "code",
   "execution_count": 36,
   "metadata": {
    "execution": {
     "iopub.execute_input": "2021-12-28T07:17:06.257866Z",
     "iopub.status.busy": "2021-12-28T07:17:06.257505Z",
     "iopub.status.idle": "2021-12-28T07:17:06.328416Z",
     "shell.execute_reply": "2021-12-28T07:17:06.327556Z",
     "shell.execute_reply.started": "2021-12-28T07:17:06.257807Z"
    }
   },
   "outputs": [
    {
     "name": "stderr",
     "output_type": "stream",
     "text": [
      "/opt/conda/lib/python3.6/site-packages/pandas/core/indexing.py:1418: FutureWarning:\n",
      "\n",
      "\n",
      "Passing list-likes to .loc or [] with any missing label will raise\n",
      "KeyError in the future, you can use .reindex() as an alternative.\n",
      "\n",
      "See the documentation here:\n",
      "https://pandas.pydata.org/pandas-docs/stable/user_guide/indexing.html#deprecate-loc-reindex-listlike\n",
      "\n",
      "/opt/conda/lib/python3.6/site-packages/pandas/core/series.py:1143: FutureWarning:\n",
      "\n",
      "\n",
      "Passing list-likes to .loc or [] with any missing label will raise\n",
      "KeyError in the future, you can use .reindex() as an alternative.\n",
      "\n",
      "See the documentation here:\n",
      "https://pandas.pydata.org/pandas-docs/stable/user_guide/indexing.html#deprecate-loc-reindex-listlike\n",
      "\n"
     ]
    },
    {
     "name": "stdout",
     "output_type": "stream",
     "text": [
      "fold: 0\n",
      "y_tr y==1 rate: nan\n",
      "y_val y==1 rate: nan\n",
      "fold: 1\n",
      "y_tr y==1 rate: nan\n",
      "y_val y==1 rate: nan\n",
      "fold: 2\n",
      "y_tr y==1 rate: nan\n",
      "y_val y==1 rate: nan\n",
      "fold: 3\n",
      "y_tr y==1 rate: nan\n",
      "y_val y==1 rate: nan\n",
      "fold: 4\n",
      "y_tr y==1 rate: nan\n",
      "y_val y==1 rate: nan\n"
     ]
    }
   ],
   "source": [
    "from sklearn.model_selection import StratifiedKFold\n",
    "\n",
    "\n",
    "cv = StratifiedKFold(n_splits=5, shuffle=True, random_state=0)\n",
    "for fold_id, (train_index, valid_index) in enumerate(cv.split(X_train, y_train)):\n",
    "    X_tr = X_train.loc[train_index, :]\n",
    "    X_val = X_train.loc[valid_index, :]\n",
    "    y_tr = y_train[train_index]\n",
    "    y_val = y_train[valid_index]\n",
    "\n",
    "    print(f'fold: {fold_id}')\n",
    "    print(f'y_tr y==1 rate: {sum(y_tr)/len(y_tr)}')\n",
    "    print(f'y_val y==1 rate: {sum(y_val)/len(y_val)}')"
   ]
  },
  {
   "cell_type": "code",
   "execution_count": 37,
   "metadata": {
    "execution": {
     "iopub.execute_input": "2021-12-28T07:17:26.428834Z",
     "iopub.status.busy": "2021-12-28T07:17:26.428424Z",
     "iopub.status.idle": "2021-12-28T07:17:27.214885Z",
     "shell.execute_reply": "2021-12-28T07:17:27.214092Z",
     "shell.execute_reply.started": "2021-12-28T07:17:26.428772Z"
    }
   },
   "outputs": [
    {
     "name": "stderr",
     "output_type": "stream",
     "text": [
      "/opt/conda/lib/python3.6/site-packages/pandas/core/indexing.py:1418: FutureWarning:\n",
      "\n",
      "\n",
      "Passing list-likes to .loc or [] with any missing label will raise\n",
      "KeyError in the future, you can use .reindex() as an alternative.\n",
      "\n",
      "See the documentation here:\n",
      "https://pandas.pydata.org/pandas-docs/stable/user_guide/indexing.html#deprecate-loc-reindex-listlike\n",
      "\n",
      "/opt/conda/lib/python3.6/site-packages/pandas/core/series.py:1143: FutureWarning:\n",
      "\n",
      "\n",
      "Passing list-likes to .loc or [] with any missing label will raise\n",
      "KeyError in the future, you can use .reindex() as an alternative.\n",
      "\n",
      "See the documentation here:\n",
      "https://pandas.pydata.org/pandas-docs/stable/user_guide/indexing.html#deprecate-loc-reindex-listlike\n",
      "\n",
      "/opt/conda/lib/python3.6/site-packages/lightgbm/basic.py:1205: UserWarning:\n",
      "\n",
      "Using categorical_feature in Dataset.\n",
      "\n",
      "/opt/conda/lib/python3.6/site-packages/lightgbm/basic.py:762: UserWarning:\n",
      "\n",
      "categorical_feature in param dict is overridden.\n",
      "\n"
     ]
    },
    {
     "name": "stdout",
     "output_type": "stream",
     "text": [
      "Training until validation scores don't improve for 10 rounds.\n",
      "[10]\ttraining's binary_logloss: 0.894727\tvalid_1's binary_logloss: 0.91474\n",
      "Early stopping, best iteration is:\n",
      "[1]\ttraining's binary_logloss: 0.870833\tvalid_1's binary_logloss: 0.850969\n",
      "Training until validation scores don't improve for 10 rounds.\n",
      "[10]\ttraining's binary_logloss: 0.940497\tvalid_1's binary_logloss: 0.956558\n",
      "Early stopping, best iteration is:\n",
      "[3]\ttraining's binary_logloss: 0.9039\tvalid_1's binary_logloss: 0.94712\n",
      "Training until validation scores don't improve for 10 rounds.\n",
      "[10]\ttraining's binary_logloss: 0.898222\tvalid_1's binary_logloss: 0.924643\n",
      "Early stopping, best iteration is:\n",
      "[1]\ttraining's binary_logloss: 0.875333\tvalid_1's binary_logloss: 0.872057\n",
      "Training until validation scores don't improve for 10 rounds.\n",
      "[10]\ttraining's binary_logloss: 0.897415\tvalid_1's binary_logloss: 0.913288\n",
      "Early stopping, best iteration is:\n",
      "[2]\ttraining's binary_logloss: 0.86687\tvalid_1's binary_logloss: 0.86321\n",
      "Training until validation scores don't improve for 10 rounds.\n",
      "[10]\ttraining's binary_logloss: 0.898728\tvalid_1's binary_logloss: 0.917202\n",
      "Early stopping, best iteration is:\n",
      "[2]\ttraining's binary_logloss: 0.870468\tvalid_1's binary_logloss: 0.868851\n"
     ]
    }
   ],
   "source": [
    "from sklearn.model_selection import StratifiedKFold\n",
    "\n",
    "\n",
    "y_preds = []\n",
    "models = []\n",
    "oof_train = np.zeros((len(X_train),))\n",
    "cv = StratifiedKFold(n_splits=5, shuffle=True, random_state=0)\n",
    "\n",
    "categorical_features = ['Embarked', 'Pclass', 'Sex']\n",
    "\n",
    "params = {\n",
    "    'objective': 'binary',\n",
    "    'max_bin': 300,\n",
    "    'learning_rate': 0.05,\n",
    "    'num_leaves': 40\n",
    "}\n",
    "\n",
    "for fold_id, (train_index, valid_index) in enumerate(cv.split(X_train, y_train)):\n",
    "    X_tr = X_train.loc[train_index, :]\n",
    "    X_val = X_train.loc[valid_index, :]\n",
    "    y_tr = y_train[train_index]\n",
    "    y_val = y_train[valid_index]\n",
    "\n",
    "    lgb_train = lgb.Dataset(X_tr, y_tr, categorical_feature=categorical_features)\n",
    "    lgb_eval = lgb.Dataset(X_val, y_val, reference=lgb_train, categorical_feature=categorical_features)\n",
    "\n",
    "    model = lgb.train(\n",
    "        params, lgb_train,\n",
    "        valid_sets=[lgb_train, lgb_eval],\n",
    "        verbose_eval=10,\n",
    "        num_boost_round=1000,\n",
    "        early_stopping_rounds=10\n",
    "    )\n",
    "\n",
    "    oof_train[valid_index] = model.predict(X_val, num_iteration=model.best_iteration)\n",
    "    y_pred = model.predict(X_test, num_iteration=model.best_iteration)\n",
    "\n",
    "    y_preds.append(y_pred)\n",
    "    models.append(model)"
   ]
  },
  {
   "cell_type": "code",
   "execution_count": 38,
   "metadata": {
    "execution": {
     "iopub.execute_input": "2021-12-28T07:17:40.694445Z",
     "iopub.status.busy": "2021-12-28T07:17:40.693824Z",
     "iopub.status.idle": "2021-12-28T07:17:40.712660Z",
     "shell.execute_reply": "2021-12-28T07:17:40.711788Z",
     "shell.execute_reply.started": "2021-12-28T07:17:40.694397Z"
    }
   },
   "outputs": [
    {
     "name": "stdout",
     "output_type": "stream",
     "text": [
      "[0.25050837 0.31654146 0.28533444 0.34710122 0.27879352 0.26409888\n",
      " 0.26537665 0.27456844 0.26537665 0.21061855]\n",
      "===CV scores===\n",
      "[0.8509694867938913, 0.9471195587474271, 0.8720567808765946, 0.8632095561915339, 0.8688509396905946]\n",
      "0.8804412644600083\n"
     ]
    }
   ],
   "source": [
    "pd.DataFrame(oof_train).to_csv('oof_train_skfold.csv', index=False)\n",
    "print(oof_train[:10])\n",
    "\n",
    "scores = [\n",
    "    m.best_score['valid_1']['binary_logloss'] for m in models\n",
    "]\n",
    "score = sum(scores) / len(scores)\n",
    "print('===CV scores===')\n",
    "print(scores)\n",
    "print(score)"
   ]
  },
  {
   "cell_type": "code",
   "execution_count": 39,
   "metadata": {
    "execution": {
     "iopub.execute_input": "2021-12-28T07:17:50.605235Z",
     "iopub.status.busy": "2021-12-28T07:17:50.604709Z",
     "iopub.status.idle": "2021-12-28T07:17:50.613356Z",
     "shell.execute_reply": "2021-12-28T07:17:50.612196Z",
     "shell.execute_reply.started": "2021-12-28T07:17:50.605156Z"
    }
   },
   "outputs": [
    {
     "data": {
      "text/plain": [
       "0.6163723916532905"
      ]
     },
     "execution_count": 39,
     "metadata": {},
     "output_type": "execute_result"
    }
   ],
   "source": [
    "from sklearn.metrics import accuracy_score\n",
    "\n",
    "\n",
    "y_pred_oof = (oof_train > 0.5).astype(int)\n",
    "accuracy_score(y_train, y_pred_oof)"
   ]
  },
  {
   "cell_type": "code",
   "execution_count": 40,
   "metadata": {
    "execution": {
     "iopub.execute_input": "2021-12-28T07:17:58.948695Z",
     "iopub.status.busy": "2021-12-28T07:17:58.948115Z",
     "iopub.status.idle": "2021-12-28T07:17:58.955294Z",
     "shell.execute_reply": "2021-12-28T07:17:58.954671Z",
     "shell.execute_reply.started": "2021-12-28T07:17:58.948643Z"
    }
   },
   "outputs": [
    {
     "data": {
      "text/plain": [
       "array([0, 0, 0, 0, 0, 0, 0, 0, 0, 0])"
      ]
     },
     "execution_count": 40,
     "metadata": {},
     "output_type": "execute_result"
    }
   ],
   "source": [
    "y_sub = sum(y_preds) / len(y_preds)\n",
    "y_sub = (y_sub > 0.5).astype(int)\n",
    "y_sub[:10]"
   ]
  },
  {
   "cell_type": "markdown",
   "metadata": {
    "_cell_guid": "a37e176c-3b55-43ab-b358-324dc384ceef",
    "_uuid": "d4d6df3e6c40063309ea72f4d4cea51cf616fd80"
   },
   "source": [
    "## 提出"
   ]
  },
  {
   "cell_type": "code",
   "execution_count": 41,
   "metadata": {
    "_cell_guid": "8111500e-330c-411e-a742-66b9d4c5cb2c",
    "_uuid": "40858051e4f458835f937275be4dfe3dfa68b25f",
    "execution": {
     "iopub.execute_input": "2021-12-28T06:54:18.365703Z",
     "iopub.status.busy": "2021-12-28T06:54:18.365306Z",
     "iopub.status.idle": "2021-12-28T06:54:18.392186Z",
     "shell.execute_reply": "2021-12-28T06:54:18.391014Z",
     "shell.execute_reply.started": "2021-12-28T06:54:18.365635Z"
    }
   },
   "outputs": [],
   "source": [
    "sub = pd.DataFrame(pd.read_csv('../input/titanic/test.csv')['PassengerId'])\n",
    "sub['Survived'] = list(map(int, y_pred))\n",
    "sub.to_csv(\"submission.csv\", index=False)"
   ]
  },
  {
   "cell_type": "code",
   "execution_count": null,
   "metadata": {
    "_uuid": "d51cef4a043bbab7560dc972a948d96a0b369760"
   },
   "outputs": [],
   "source": []
  },
  {
   "cell_type": "code",
   "execution_count": null,
   "metadata": {},
   "outputs": [],
   "source": []
  }
 ],
 "metadata": {
  "kernelspec": {
   "display_name": "Python 3",
   "language": "python",
   "name": "python3"
  },
  "language_info": {
   "codemirror_mode": {
    "name": "ipython",
    "version": 3
   },
   "file_extension": ".py",
   "mimetype": "text/x-python",
   "name": "python",
   "nbconvert_exporter": "python",
   "pygments_lexer": "ipython3",
   "version": "3.6.6"
  }
 },
 "nbformat": 4,
 "nbformat_minor": 4
}
